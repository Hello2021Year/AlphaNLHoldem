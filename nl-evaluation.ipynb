{
 "cells": [
  {
   "cell_type": "code",
   "execution_count": 1,
   "id": "be0a0a82",
   "metadata": {},
   "outputs": [],
   "source": [
    "from ray.rllib.models import ModelCatalog\n",
    "from agi.nl_holdem_env import NlHoldemEnvWrapper\n",
    "from agi.nl_holdem_net import NlHoldemNet\n",
    "ModelCatalog.register_custom_model('NlHoldemNet', NlHoldemNet)\n",
    "import numpy as np\n",
    "from tqdm import tqdm\n",
    "import pandas as pd\n",
    "from agi.evaluation_tools import NNAgent,death_match\n",
    "from matplotlib import pyplot as plt\n",
    "%matplotlib inline"
   ]
  },
  {
   "cell_type": "code",
   "execution_count": 2,
   "id": "058dc028",
   "metadata": {},
   "outputs": [],
   "source": [
    "conf = eval(open(\"confs/nl_holdem.py\").read().strip())"
   ]
  },
  {
   "cell_type": "code",
   "execution_count": 3,
   "id": "2a566766",
   "metadata": {},
   "outputs": [],
   "source": [
    "env = NlHoldemEnvWrapper(\n",
    "        conf\n",
    ")"
   ]
  },
  {
   "cell_type": "code",
   "execution_count": 4,
   "id": "725f2074",
   "metadata": {},
   "outputs": [],
   "source": [
    "agts = []\n",
    "for i in range(0,912,50):\n",
    "    nn_agent = NNAgent(env.observation_space,\n",
    "                       env.action_space,\n",
    "                       conf,\n",
    "                       f\"league/history_agents/weights/c_{i}.pkl\",\n",
    "                       f\"oppo_c{i}\")\n",
    "    agts.append(nn_agent)"
   ]
  },
  {
   "cell_type": "code",
   "execution_count": 5,
   "id": "4e430ec8",
   "metadata": {},
   "outputs": [],
   "source": [
    "winrate_matrix = [[0 for i in agts] for j in agts]"
   ]
  },
  {
   "cell_type": "code",
   "execution_count": 6,
   "id": "f323f1e3",
   "metadata": {
    "scrolled": true
   },
   "outputs": [
    {
     "name": "stderr",
     "output_type": "stream",
     "text": [
      "100%|██████████| 5000/5000 [00:09<00:00, 547.97it/s]\n",
      "100%|██████████| 5000/5000 [00:09<00:00, 551.02it/s]\n"
     ]
    },
    {
     "name": "stdout",
     "output_type": "stream",
     "text": [
      "oppo_c0 oppo_c0 -49.3\n"
     ]
    },
    {
     "name": "stderr",
     "output_type": "stream",
     "text": [
      "100%|██████████| 5000/5000 [00:15<00:00, 330.53it/s]\n",
      "100%|██████████| 5000/5000 [00:10<00:00, 464.16it/s]\n"
     ]
    },
    {
     "name": "stdout",
     "output_type": "stream",
     "text": [
      "oppo_c0 oppo_c50 -1702.3999999999999\n"
     ]
    },
    {
     "name": "stderr",
     "output_type": "stream",
     "text": [
      "100%|██████████| 5000/5000 [00:15<00:00, 328.70it/s]\n",
      "100%|██████████| 5000/5000 [00:10<00:00, 474.89it/s]\n"
     ]
    },
    {
     "name": "stdout",
     "output_type": "stream",
     "text": [
      "oppo_c0 oppo_c100 -969.9499999999999\n"
     ]
    },
    {
     "name": "stderr",
     "output_type": "stream",
     "text": [
      "100%|██████████| 5000/5000 [00:17<00:00, 293.13it/s]\n",
      "100%|██████████| 5000/5000 [00:10<00:00, 479.37it/s]\n"
     ]
    },
    {
     "name": "stdout",
     "output_type": "stream",
     "text": [
      "oppo_c0 oppo_c150 -1168.8\n"
     ]
    },
    {
     "name": "stderr",
     "output_type": "stream",
     "text": [
      "100%|██████████| 5000/5000 [00:16<00:00, 302.45it/s]\n",
      "100%|██████████| 5000/5000 [00:10<00:00, 456.35it/s]\n"
     ]
    },
    {
     "name": "stdout",
     "output_type": "stream",
     "text": [
      "oppo_c0 oppo_c200 -1975.05\n"
     ]
    },
    {
     "name": "stderr",
     "output_type": "stream",
     "text": [
      "100%|██████████| 5000/5000 [00:16<00:00, 304.25it/s]\n",
      "100%|██████████| 5000/5000 [00:11<00:00, 441.03it/s]\n"
     ]
    },
    {
     "name": "stdout",
     "output_type": "stream",
     "text": [
      "oppo_c0 oppo_c250 -1115.1\n"
     ]
    },
    {
     "name": "stderr",
     "output_type": "stream",
     "text": [
      "100%|██████████| 5000/5000 [00:16<00:00, 302.73it/s]\n",
      "100%|██████████| 5000/5000 [00:10<00:00, 457.26it/s]\n"
     ]
    },
    {
     "name": "stdout",
     "output_type": "stream",
     "text": [
      "oppo_c0 oppo_c300 -1688.55\n"
     ]
    },
    {
     "name": "stderr",
     "output_type": "stream",
     "text": [
      "100%|██████████| 5000/5000 [00:16<00:00, 305.14it/s]\n",
      "100%|██████████| 5000/5000 [00:10<00:00, 482.09it/s]\n"
     ]
    },
    {
     "name": "stdout",
     "output_type": "stream",
     "text": [
      "oppo_c0 oppo_c350 -1725.6499999999999\n"
     ]
    },
    {
     "name": "stderr",
     "output_type": "stream",
     "text": [
      "100%|██████████| 5000/5000 [00:16<00:00, 296.22it/s]\n",
      "100%|██████████| 5000/5000 [00:10<00:00, 461.19it/s]\n"
     ]
    },
    {
     "name": "stdout",
     "output_type": "stream",
     "text": [
      "oppo_c0 oppo_c400 -1673.1499999999999\n"
     ]
    },
    {
     "name": "stderr",
     "output_type": "stream",
     "text": [
      "100%|██████████| 5000/5000 [00:16<00:00, 299.07it/s]\n",
      "100%|██████████| 5000/5000 [00:10<00:00, 462.26it/s]\n"
     ]
    },
    {
     "name": "stdout",
     "output_type": "stream",
     "text": [
      "oppo_c0 oppo_c450 -1473.5\n"
     ]
    },
    {
     "name": "stderr",
     "output_type": "stream",
     "text": [
      "100%|██████████| 5000/5000 [00:16<00:00, 295.27it/s]\n",
      "100%|██████████| 5000/5000 [00:11<00:00, 442.76it/s]\n"
     ]
    },
    {
     "name": "stdout",
     "output_type": "stream",
     "text": [
      "oppo_c0 oppo_c500 -1562.4\n"
     ]
    },
    {
     "name": "stderr",
     "output_type": "stream",
     "text": [
      "100%|██████████| 5000/5000 [00:16<00:00, 296.23it/s]\n",
      "100%|██████████| 5000/5000 [00:10<00:00, 456.77it/s]\n"
     ]
    },
    {
     "name": "stdout",
     "output_type": "stream",
     "text": [
      "oppo_c0 oppo_c550 -1031.1\n"
     ]
    },
    {
     "name": "stderr",
     "output_type": "stream",
     "text": [
      "100%|██████████| 5000/5000 [00:15<00:00, 313.14it/s]\n",
      "100%|██████████| 5000/5000 [00:10<00:00, 461.97it/s]\n"
     ]
    },
    {
     "name": "stdout",
     "output_type": "stream",
     "text": [
      "oppo_c0 oppo_c600 -1970.85\n"
     ]
    },
    {
     "name": "stderr",
     "output_type": "stream",
     "text": [
      "100%|██████████| 5000/5000 [00:15<00:00, 316.46it/s]\n",
      "100%|██████████| 5000/5000 [00:10<00:00, 466.44it/s]\n"
     ]
    },
    {
     "name": "stdout",
     "output_type": "stream",
     "text": [
      "oppo_c0 oppo_c650 -1528.1499999999999\n"
     ]
    },
    {
     "name": "stderr",
     "output_type": "stream",
     "text": [
      "100%|██████████| 5000/5000 [00:16<00:00, 308.94it/s]\n",
      "100%|██████████| 5000/5000 [00:11<00:00, 429.78it/s]\n"
     ]
    },
    {
     "name": "stdout",
     "output_type": "stream",
     "text": [
      "oppo_c0 oppo_c700 -1060.1000000000001\n"
     ]
    },
    {
     "name": "stderr",
     "output_type": "stream",
     "text": [
      "100%|██████████| 5000/5000 [00:16<00:00, 307.23it/s]\n",
      "100%|██████████| 5000/5000 [00:11<00:00, 443.63it/s]\n"
     ]
    },
    {
     "name": "stdout",
     "output_type": "stream",
     "text": [
      "oppo_c0 oppo_c750 -1153.5500000000002\n"
     ]
    },
    {
     "name": "stderr",
     "output_type": "stream",
     "text": [
      "100%|██████████| 5000/5000 [00:16<00:00, 304.93it/s]\n",
      "100%|██████████| 5000/5000 [00:11<00:00, 430.69it/s]\n"
     ]
    },
    {
     "name": "stdout",
     "output_type": "stream",
     "text": [
      "oppo_c0 oppo_c800 -1324.5\n"
     ]
    },
    {
     "name": "stderr",
     "output_type": "stream",
     "text": [
      "100%|██████████| 5000/5000 [00:16<00:00, 312.04it/s]\n",
      "100%|██████████| 5000/5000 [00:10<00:00, 461.48it/s]\n"
     ]
    },
    {
     "name": "stdout",
     "output_type": "stream",
     "text": [
      "oppo_c0 oppo_c850 -1829.3999999999999\n"
     ]
    },
    {
     "name": "stderr",
     "output_type": "stream",
     "text": [
      "100%|██████████| 5000/5000 [00:15<00:00, 319.99it/s]\n",
      "100%|██████████| 5000/5000 [00:10<00:00, 473.00it/s]\n"
     ]
    },
    {
     "name": "stdout",
     "output_type": "stream",
     "text": [
      "oppo_c0 oppo_c900 -1321.45\n"
     ]
    },
    {
     "name": "stderr",
     "output_type": "stream",
     "text": [
      "100%|██████████| 5000/5000 [00:10<00:00, 462.56it/s]\n",
      "100%|██████████| 5000/5000 [00:15<00:00, 329.39it/s]\n"
     ]
    },
    {
     "name": "stdout",
     "output_type": "stream",
     "text": [
      "oppo_c50 oppo_c0 1819.0\n"
     ]
    },
    {
     "name": "stderr",
     "output_type": "stream",
     "text": [
      "100%|██████████| 5000/5000 [00:25<00:00, 196.87it/s]\n",
      "100%|██████████| 5000/5000 [00:25<00:00, 193.52it/s]\n"
     ]
    },
    {
     "name": "stdout",
     "output_type": "stream",
     "text": [
      "oppo_c50 oppo_c50 160.3\n"
     ]
    },
    {
     "name": "stderr",
     "output_type": "stream",
     "text": [
      "100%|██████████| 5000/5000 [00:25<00:00, 198.83it/s]\n",
      "100%|██████████| 5000/5000 [00:19<00:00, 254.12it/s]\n"
     ]
    },
    {
     "name": "stdout",
     "output_type": "stream",
     "text": [
      "oppo_c50 oppo_c100 -1835.0\n"
     ]
    },
    {
     "name": "stderr",
     "output_type": "stream",
     "text": [
      "100%|██████████| 5000/5000 [00:26<00:00, 188.85it/s]\n",
      "100%|██████████| 5000/5000 [00:19<00:00, 252.49it/s]\n"
     ]
    },
    {
     "name": "stdout",
     "output_type": "stream",
     "text": [
      "oppo_c50 oppo_c150 -2179.3999999999996\n"
     ]
    },
    {
     "name": "stderr",
     "output_type": "stream",
     "text": [
      "100%|██████████| 5000/5000 [00:26<00:00, 189.56it/s]\n",
      "100%|██████████| 5000/5000 [00:20<00:00, 241.97it/s]\n"
     ]
    },
    {
     "name": "stdout",
     "output_type": "stream",
     "text": [
      "oppo_c50 oppo_c200 -2727.15\n"
     ]
    },
    {
     "name": "stderr",
     "output_type": "stream",
     "text": [
      "100%|██████████| 5000/5000 [00:27<00:00, 182.42it/s]\n",
      "100%|██████████| 5000/5000 [00:22<00:00, 220.66it/s]\n"
     ]
    },
    {
     "name": "stdout",
     "output_type": "stream",
     "text": [
      "oppo_c50 oppo_c250 -2601.0\n"
     ]
    },
    {
     "name": "stderr",
     "output_type": "stream",
     "text": [
      "100%|██████████| 5000/5000 [00:28<00:00, 174.77it/s]\n",
      "100%|██████████| 5000/5000 [00:22<00:00, 222.83it/s]\n"
     ]
    },
    {
     "name": "stdout",
     "output_type": "stream",
     "text": [
      "oppo_c50 oppo_c300 -1774.1\n"
     ]
    },
    {
     "name": "stderr",
     "output_type": "stream",
     "text": [
      "100%|██████████| 5000/5000 [00:27<00:00, 182.31it/s]\n",
      "100%|██████████| 5000/5000 [00:22<00:00, 227.10it/s]\n"
     ]
    },
    {
     "name": "stdout",
     "output_type": "stream",
     "text": [
      "oppo_c50 oppo_c350 -2400.4500000000003\n"
     ]
    },
    {
     "name": "stderr",
     "output_type": "stream",
     "text": [
      "100%|██████████| 5000/5000 [00:27<00:00, 178.96it/s]\n",
      "100%|██████████| 5000/5000 [00:22<00:00, 224.43it/s]\n"
     ]
    },
    {
     "name": "stdout",
     "output_type": "stream",
     "text": [
      "oppo_c50 oppo_c400 -1652.0\n"
     ]
    },
    {
     "name": "stderr",
     "output_type": "stream",
     "text": [
      "100%|██████████| 5000/5000 [00:28<00:00, 177.78it/s]\n",
      "100%|██████████| 5000/5000 [00:20<00:00, 245.52it/s]\n"
     ]
    },
    {
     "name": "stdout",
     "output_type": "stream",
     "text": [
      "oppo_c50 oppo_c450 -2632.6\n"
     ]
    },
    {
     "name": "stderr",
     "output_type": "stream",
     "text": [
      "100%|██████████| 5000/5000 [00:24<00:00, 203.59it/s]\n",
      "100%|██████████| 5000/5000 [00:24<00:00, 208.27it/s]\n"
     ]
    },
    {
     "name": "stdout",
     "output_type": "stream",
     "text": [
      "oppo_c50 oppo_c500 -1312.05\n"
     ]
    },
    {
     "name": "stderr",
     "output_type": "stream",
     "text": [
      "100%|██████████| 5000/5000 [00:29<00:00, 172.23it/s]\n",
      "100%|██████████| 5000/5000 [00:22<00:00, 218.31it/s]\n"
     ]
    },
    {
     "name": "stdout",
     "output_type": "stream",
     "text": [
      "oppo_c50 oppo_c550 -927.0\n"
     ]
    },
    {
     "name": "stderr",
     "output_type": "stream",
     "text": [
      "100%|██████████| 5000/5000 [00:28<00:00, 178.49it/s]\n",
      "100%|██████████| 5000/5000 [00:24<00:00, 202.21it/s]\n"
     ]
    },
    {
     "name": "stdout",
     "output_type": "stream",
     "text": [
      "oppo_c50 oppo_c600 -1737.0\n"
     ]
    },
    {
     "name": "stderr",
     "output_type": "stream",
     "text": [
      "100%|██████████| 5000/5000 [00:25<00:00, 195.56it/s]\n",
      "100%|██████████| 5000/5000 [00:22<00:00, 223.64it/s]\n"
     ]
    },
    {
     "name": "stdout",
     "output_type": "stream",
     "text": [
      "oppo_c50 oppo_c650 -2201.1\n"
     ]
    },
    {
     "name": "stderr",
     "output_type": "stream",
     "text": [
      "100%|██████████| 5000/5000 [00:24<00:00, 202.03it/s]\n",
      "100%|██████████| 5000/5000 [00:23<00:00, 214.98it/s]\n"
     ]
    },
    {
     "name": "stdout",
     "output_type": "stream",
     "text": [
      "oppo_c50 oppo_c700 -1447.8\n"
     ]
    },
    {
     "name": "stderr",
     "output_type": "stream",
     "text": [
      "100%|██████████| 5000/5000 [00:28<00:00, 177.31it/s]\n",
      "100%|██████████| 5000/5000 [00:25<00:00, 195.26it/s]\n"
     ]
    },
    {
     "name": "stdout",
     "output_type": "stream",
     "text": [
      "oppo_c50 oppo_c750 -1276.5500000000002\n"
     ]
    },
    {
     "name": "stderr",
     "output_type": "stream",
     "text": [
      "100%|██████████| 5000/5000 [00:26<00:00, 191.25it/s]\n",
      "100%|██████████| 5000/5000 [00:25<00:00, 194.78it/s]\n"
     ]
    },
    {
     "name": "stdout",
     "output_type": "stream",
     "text": [
      "oppo_c50 oppo_c800 -694.9499999999999\n"
     ]
    },
    {
     "name": "stderr",
     "output_type": "stream",
     "text": [
      "100%|██████████| 5000/5000 [00:24<00:00, 201.92it/s]\n",
      "100%|██████████| 5000/5000 [00:24<00:00, 203.27it/s]\n"
     ]
    },
    {
     "name": "stdout",
     "output_type": "stream",
     "text": [
      "oppo_c50 oppo_c850 -1023.9499999999999\n"
     ]
    },
    {
     "name": "stderr",
     "output_type": "stream",
     "text": [
      "100%|██████████| 5000/5000 [00:25<00:00, 199.35it/s]\n",
      "100%|██████████| 5000/5000 [00:23<00:00, 210.41it/s]\n"
     ]
    },
    {
     "name": "stdout",
     "output_type": "stream",
     "text": [
      "oppo_c50 oppo_c900 -1226.6999999999998\n"
     ]
    },
    {
     "name": "stderr",
     "output_type": "stream",
     "text": [
      "100%|██████████| 5000/5000 [00:09<00:00, 508.33it/s]\n",
      "100%|██████████| 5000/5000 [00:14<00:00, 333.34it/s]\n"
     ]
    },
    {
     "name": "stdout",
     "output_type": "stream",
     "text": [
      "oppo_c100 oppo_c0 1033.45\n"
     ]
    },
    {
     "name": "stderr",
     "output_type": "stream",
     "text": [
      "100%|██████████| 5000/5000 [00:19<00:00, 253.15it/s]\n",
      "100%|██████████| 5000/5000 [00:25<00:00, 198.17it/s]\n"
     ]
    },
    {
     "name": "stdout",
     "output_type": "stream",
     "text": [
      "oppo_c100 oppo_c50 1732.2\n"
     ]
    },
    {
     "name": "stderr",
     "output_type": "stream",
     "text": [
      "100%|██████████| 5000/5000 [00:26<00:00, 189.90it/s]\n",
      "100%|██████████| 5000/5000 [00:26<00:00, 190.35it/s]\n"
     ]
    },
    {
     "name": "stdout",
     "output_type": "stream",
     "text": [
      "oppo_c100 oppo_c100 57.85\n"
     ]
    },
    {
     "name": "stderr",
     "output_type": "stream",
     "text": [
      "100%|██████████| 5000/5000 [00:26<00:00, 189.60it/s]\n",
      "100%|██████████| 5000/5000 [00:26<00:00, 188.12it/s]\n"
     ]
    },
    {
     "name": "stdout",
     "output_type": "stream",
     "text": [
      "oppo_c100 oppo_c150 -646.0\n"
     ]
    },
    {
     "name": "stderr",
     "output_type": "stream",
     "text": [
      "100%|██████████| 5000/5000 [00:28<00:00, 175.20it/s]\n",
      "100%|██████████| 5000/5000 [00:29<00:00, 171.41it/s]\n"
     ]
    },
    {
     "name": "stdout",
     "output_type": "stream",
     "text": [
      "oppo_c100 oppo_c200 -818.25\n"
     ]
    },
    {
     "name": "stderr",
     "output_type": "stream",
     "text": [
      "100%|██████████| 5000/5000 [00:22<00:00, 219.31it/s]\n",
      "100%|██████████| 5000/5000 [00:27<00:00, 182.16it/s]\n"
     ]
    },
    {
     "name": "stdout",
     "output_type": "stream",
     "text": [
      "oppo_c100 oppo_c250 -1338.1000000000001\n"
     ]
    },
    {
     "name": "stderr",
     "output_type": "stream",
     "text": [
      "100%|██████████| 5000/5000 [00:29<00:00, 167.97it/s]\n",
      "100%|██████████| 5000/5000 [00:28<00:00, 176.78it/s]\n"
     ]
    },
    {
     "name": "stdout",
     "output_type": "stream",
     "text": [
      "oppo_c100 oppo_c300 -1419.35\n"
     ]
    },
    {
     "name": "stderr",
     "output_type": "stream",
     "text": [
      "100%|██████████| 5000/5000 [00:26<00:00, 190.95it/s]\n",
      "100%|██████████| 5000/5000 [00:29<00:00, 171.42it/s]\n"
     ]
    },
    {
     "name": "stdout",
     "output_type": "stream",
     "text": [
      "oppo_c100 oppo_c350 -1767.5\n"
     ]
    },
    {
     "name": "stderr",
     "output_type": "stream",
     "text": [
      "100%|██████████| 5000/5000 [00:27<00:00, 179.50it/s]\n",
      "100%|██████████| 5000/5000 [00:27<00:00, 180.89it/s]\n"
     ]
    },
    {
     "name": "stdout",
     "output_type": "stream",
     "text": [
      "oppo_c100 oppo_c400 -533.2\n"
     ]
    },
    {
     "name": "stderr",
     "output_type": "stream",
     "text": [
      "100%|██████████| 5000/5000 [00:17<00:00, 279.38it/s]\n",
      "100%|██████████| 5000/5000 [00:28<00:00, 172.59it/s]\n"
     ]
    },
    {
     "name": "stdout",
     "output_type": "stream",
     "text": [
      "oppo_c100 oppo_c450 -2927.7000000000003\n"
     ]
    },
    {
     "name": "stderr",
     "output_type": "stream",
     "text": [
      "100%|██████████| 5000/5000 [00:22<00:00, 218.52it/s]\n",
      "100%|██████████| 5000/5000 [00:27<00:00, 181.68it/s]\n"
     ]
    },
    {
     "name": "stdout",
     "output_type": "stream",
     "text": [
      "oppo_c100 oppo_c500 -1334.2\n"
     ]
    },
    {
     "name": "stderr",
     "output_type": "stream",
     "text": [
      "100%|██████████| 5000/5000 [00:24<00:00, 200.13it/s]\n",
      "100%|██████████| 5000/5000 [00:27<00:00, 181.84it/s]\n"
     ]
    },
    {
     "name": "stdout",
     "output_type": "stream",
     "text": [
      "oppo_c100 oppo_c550 -1195.8\n"
     ]
    },
    {
     "name": "stderr",
     "output_type": "stream",
     "text": [
      "100%|██████████| 5000/5000 [00:20<00:00, 246.87it/s]\n",
      "100%|██████████| 5000/5000 [00:23<00:00, 216.86it/s]\n"
     ]
    },
    {
     "name": "stdout",
     "output_type": "stream",
     "text": [
      "oppo_c100 oppo_c600 -1293.95\n"
     ]
    },
    {
     "name": "stderr",
     "output_type": "stream",
     "text": [
      "100%|██████████| 5000/5000 [00:19<00:00, 251.58it/s]\n",
      "100%|██████████| 5000/5000 [00:25<00:00, 193.43it/s]\n"
     ]
    },
    {
     "name": "stdout",
     "output_type": "stream",
     "text": [
      "oppo_c100 oppo_c650 -1761.8\n"
     ]
    },
    {
     "name": "stderr",
     "output_type": "stream",
     "text": [
      "100%|██████████| 5000/5000 [00:20<00:00, 245.08it/s]\n",
      "100%|██████████| 5000/5000 [00:25<00:00, 196.80it/s]\n"
     ]
    },
    {
     "name": "stdout",
     "output_type": "stream",
     "text": [
      "oppo_c100 oppo_c700 -981.5500000000001\n"
     ]
    },
    {
     "name": "stderr",
     "output_type": "stream",
     "text": [
      "100%|██████████| 5000/5000 [00:20<00:00, 245.15it/s]\n",
      "100%|██████████| 5000/5000 [00:22<00:00, 223.40it/s]\n"
     ]
    },
    {
     "name": "stdout",
     "output_type": "stream",
     "text": [
      "oppo_c100 oppo_c750 -1351.1\n"
     ]
    },
    {
     "name": "stderr",
     "output_type": "stream",
     "text": [
      "100%|██████████| 5000/5000 [00:19<00:00, 251.06it/s]\n",
      "100%|██████████| 5000/5000 [00:24<00:00, 204.90it/s]\n"
     ]
    },
    {
     "name": "stdout",
     "output_type": "stream",
     "text": [
      "oppo_c100 oppo_c800 -1194.95\n"
     ]
    },
    {
     "name": "stderr",
     "output_type": "stream",
     "text": [
      "100%|██████████| 5000/5000 [00:21<00:00, 237.82it/s]\n",
      "100%|██████████| 5000/5000 [00:24<00:00, 206.90it/s]\n"
     ]
    },
    {
     "name": "stdout",
     "output_type": "stream",
     "text": [
      "oppo_c100 oppo_c850 -1028.3\n"
     ]
    },
    {
     "name": "stderr",
     "output_type": "stream",
     "text": [
      "100%|██████████| 5000/5000 [00:20<00:00, 248.60it/s]\n",
      "100%|██████████| 5000/5000 [00:23<00:00, 216.62it/s]\n"
     ]
    },
    {
     "name": "stdout",
     "output_type": "stream",
     "text": [
      "oppo_c100 oppo_c900 -1060.3\n"
     ]
    },
    {
     "name": "stderr",
     "output_type": "stream",
     "text": [
      "100%|██████████| 5000/5000 [00:10<00:00, 470.81it/s]\n",
      "100%|██████████| 5000/5000 [00:17<00:00, 291.96it/s]\n"
     ]
    },
    {
     "name": "stdout",
     "output_type": "stream",
     "text": [
      "oppo_c150 oppo_c0 884.85\n"
     ]
    },
    {
     "name": "stderr",
     "output_type": "stream",
     "text": [
      "100%|██████████| 5000/5000 [00:19<00:00, 250.71it/s]\n",
      "100%|██████████| 5000/5000 [00:26<00:00, 191.61it/s]\n"
     ]
    },
    {
     "name": "stdout",
     "output_type": "stream",
     "text": [
      "oppo_c150 oppo_c50 2329.75\n"
     ]
    },
    {
     "name": "stderr",
     "output_type": "stream",
     "text": [
      "100%|██████████| 5000/5000 [00:27<00:00, 184.28it/s]\n",
      "100%|██████████| 5000/5000 [00:26<00:00, 186.83it/s]\n"
     ]
    },
    {
     "name": "stdout",
     "output_type": "stream",
     "text": [
      "oppo_c150 oppo_c100 688.5\n"
     ]
    },
    {
     "name": "stderr",
     "output_type": "stream",
     "text": [
      "100%|██████████| 5000/5000 [00:26<00:00, 189.11it/s]\n",
      "100%|██████████| 5000/5000 [00:27<00:00, 182.69it/s]\n"
     ]
    },
    {
     "name": "stdout",
     "output_type": "stream",
     "text": [
      "oppo_c150 oppo_c150 -39.550000000000004\n"
     ]
    },
    {
     "name": "stderr",
     "output_type": "stream",
     "text": [
      "100%|██████████| 5000/5000 [00:28<00:00, 178.17it/s]\n",
      "100%|██████████| 5000/5000 [00:30<00:00, 165.10it/s]\n"
     ]
    },
    {
     "name": "stdout",
     "output_type": "stream",
     "text": [
      "oppo_c150 oppo_c200 -4055.7999999999997\n"
     ]
    },
    {
     "name": "stderr",
     "output_type": "stream",
     "text": [
      "100%|██████████| 5000/5000 [00:24<00:00, 206.77it/s]\n",
      "100%|██████████| 5000/5000 [00:27<00:00, 183.71it/s]\n"
     ]
    },
    {
     "name": "stdout",
     "output_type": "stream",
     "text": [
      "oppo_c150 oppo_c250 -3714.3\n"
     ]
    },
    {
     "name": "stderr",
     "output_type": "stream",
     "text": [
      "100%|██████████| 5000/5000 [00:31<00:00, 157.55it/s]\n",
      "100%|██████████| 5000/5000 [00:30<00:00, 164.79it/s]\n"
     ]
    },
    {
     "name": "stdout",
     "output_type": "stream",
     "text": [
      "oppo_c150 oppo_c300 545.35\n"
     ]
    },
    {
     "name": "stderr",
     "output_type": "stream",
     "text": [
      "100%|██████████| 5000/5000 [00:26<00:00, 187.23it/s]\n",
      "100%|██████████| 5000/5000 [00:28<00:00, 176.94it/s]\n"
     ]
    },
    {
     "name": "stdout",
     "output_type": "stream",
     "text": [
      "oppo_c150 oppo_c350 -3106.2\n"
     ]
    },
    {
     "name": "stderr",
     "output_type": "stream",
     "text": [
      "100%|██████████| 5000/5000 [00:28<00:00, 175.14it/s]\n",
      "100%|██████████| 5000/5000 [00:28<00:00, 177.31it/s]\n"
     ]
    },
    {
     "name": "stdout",
     "output_type": "stream",
     "text": [
      "oppo_c150 oppo_c400 -2152.55\n"
     ]
    },
    {
     "name": "stderr",
     "output_type": "stream",
     "text": [
      "100%|██████████| 5000/5000 [00:30<00:00, 163.46it/s]\n",
      "100%|██████████| 5000/5000 [00:29<00:00, 170.40it/s]\n"
     ]
    },
    {
     "name": "stdout",
     "output_type": "stream",
     "text": [
      "oppo_c150 oppo_c450 -1435.2\n"
     ]
    },
    {
     "name": "stderr",
     "output_type": "stream",
     "text": [
      "100%|██████████| 5000/5000 [00:28<00:00, 174.93it/s]\n",
      "100%|██████████| 5000/5000 [00:28<00:00, 174.07it/s]\n"
     ]
    },
    {
     "name": "stdout",
     "output_type": "stream",
     "text": [
      "oppo_c150 oppo_c500 -2121.35\n"
     ]
    },
    {
     "name": "stderr",
     "output_type": "stream",
     "text": [
      "100%|██████████| 5000/5000 [00:27<00:00, 182.76it/s]\n",
      "100%|██████████| 5000/5000 [00:28<00:00, 177.93it/s]\n"
     ]
    },
    {
     "name": "stdout",
     "output_type": "stream",
     "text": [
      "oppo_c150 oppo_c550 -1234.1\n"
     ]
    },
    {
     "name": "stderr",
     "output_type": "stream",
     "text": [
      "100%|██████████| 5000/5000 [00:24<00:00, 204.20it/s]\n",
      "100%|██████████| 5000/5000 [00:28<00:00, 173.60it/s]\n"
     ]
    },
    {
     "name": "stdout",
     "output_type": "stream",
     "text": [
      "oppo_c150 oppo_c600 -2487.2999999999997\n"
     ]
    },
    {
     "name": "stderr",
     "output_type": "stream",
     "text": [
      "100%|██████████| 5000/5000 [00:19<00:00, 250.26it/s]\n",
      "100%|██████████| 5000/5000 [00:29<00:00, 169.43it/s]\n"
     ]
    },
    {
     "name": "stdout",
     "output_type": "stream",
     "text": [
      "oppo_c150 oppo_c650 -3787.4\n"
     ]
    },
    {
     "name": "stderr",
     "output_type": "stream",
     "text": [
      "100%|██████████| 5000/5000 [00:23<00:00, 212.44it/s]\n",
      "100%|██████████| 5000/5000 [00:29<00:00, 170.10it/s]\n"
     ]
    },
    {
     "name": "stdout",
     "output_type": "stream",
     "text": [
      "oppo_c150 oppo_c700 -1238.3999999999999\n"
     ]
    },
    {
     "name": "stderr",
     "output_type": "stream",
     "text": [
      "100%|██████████| 5000/5000 [00:20<00:00, 241.12it/s]\n",
      "100%|██████████| 5000/5000 [00:29<00:00, 168.58it/s]\n"
     ]
    },
    {
     "name": "stdout",
     "output_type": "stream",
     "text": [
      "oppo_c150 oppo_c750 -2061.7999999999997\n"
     ]
    },
    {
     "name": "stderr",
     "output_type": "stream",
     "text": [
      "100%|██████████| 5000/5000 [00:22<00:00, 219.80it/s]\n",
      "100%|██████████| 5000/5000 [00:27<00:00, 178.60it/s]\n"
     ]
    },
    {
     "name": "stdout",
     "output_type": "stream",
     "text": [
      "oppo_c150 oppo_c800 -973.15\n"
     ]
    },
    {
     "name": "stderr",
     "output_type": "stream",
     "text": [
      "100%|██████████| 5000/5000 [00:23<00:00, 215.49it/s]\n",
      "100%|██████████| 5000/5000 [00:27<00:00, 178.89it/s]\n"
     ]
    },
    {
     "name": "stdout",
     "output_type": "stream",
     "text": [
      "oppo_c150 oppo_c850 -1509.25\n"
     ]
    },
    {
     "name": "stderr",
     "output_type": "stream",
     "text": [
      "100%|██████████| 5000/5000 [00:22<00:00, 219.82it/s]\n",
      "100%|██████████| 5000/5000 [00:27<00:00, 180.34it/s]\n"
     ]
    },
    {
     "name": "stdout",
     "output_type": "stream",
     "text": [
      "oppo_c150 oppo_c900 -1188.25\n"
     ]
    },
    {
     "name": "stderr",
     "output_type": "stream",
     "text": [
      "100%|██████████| 5000/5000 [00:11<00:00, 446.82it/s]\n",
      "100%|██████████| 5000/5000 [00:16<00:00, 301.66it/s]\n"
     ]
    },
    {
     "name": "stdout",
     "output_type": "stream",
     "text": [
      "oppo_c200 oppo_c0 1683.0\n"
     ]
    },
    {
     "name": "stderr",
     "output_type": "stream",
     "text": [
      "100%|██████████| 5000/5000 [00:20<00:00, 247.50it/s]\n",
      "100%|██████████| 5000/5000 [00:26<00:00, 187.59it/s]\n"
     ]
    },
    {
     "name": "stdout",
     "output_type": "stream",
     "text": [
      "oppo_c200 oppo_c50 2714.0\n"
     ]
    },
    {
     "name": "stderr",
     "output_type": "stream",
     "text": [
      "100%|██████████| 5000/5000 [00:29<00:00, 170.83it/s]\n",
      "100%|██████████| 5000/5000 [00:28<00:00, 174.71it/s]\n"
     ]
    },
    {
     "name": "stdout",
     "output_type": "stream",
     "text": [
      "oppo_c200 oppo_c100 878.95\n"
     ]
    },
    {
     "name": "stderr",
     "output_type": "stream",
     "text": [
      "100%|██████████| 5000/5000 [00:30<00:00, 162.42it/s]\n",
      "100%|██████████| 5000/5000 [00:27<00:00, 183.25it/s]\n"
     ]
    },
    {
     "name": "stdout",
     "output_type": "stream",
     "text": [
      "oppo_c200 oppo_c150 4076.35\n"
     ]
    },
    {
     "name": "stderr",
     "output_type": "stream",
     "text": [
      "100%|██████████| 5000/5000 [00:31<00:00, 160.42it/s]\n",
      "100%|██████████| 5000/5000 [00:31<00:00, 160.57it/s]\n"
     ]
    },
    {
     "name": "stdout",
     "output_type": "stream",
     "text": [
      "oppo_c200 oppo_c200 -50.95\n"
     ]
    },
    {
     "name": "stderr",
     "output_type": "stream",
     "text": [
      "100%|██████████| 5000/5000 [00:26<00:00, 185.25it/s]\n",
      "100%|██████████| 5000/5000 [00:29<00:00, 168.33it/s]\n"
     ]
    },
    {
     "name": "stdout",
     "output_type": "stream",
     "text": [
      "oppo_c200 oppo_c250 -1770.1499999999999\n"
     ]
    },
    {
     "name": "stderr",
     "output_type": "stream",
     "text": [
      "100%|██████████| 5000/5000 [00:33<00:00, 148.89it/s]\n",
      "100%|██████████| 5000/5000 [00:31<00:00, 161.27it/s]\n"
     ]
    },
    {
     "name": "stdout",
     "output_type": "stream",
     "text": [
      "oppo_c200 oppo_c300 -2589.8500000000004\n"
     ]
    },
    {
     "name": "stderr",
     "output_type": "stream",
     "text": [
      "100%|██████████| 5000/5000 [00:29<00:00, 171.83it/s]\n",
      "100%|██████████| 5000/5000 [00:29<00:00, 169.50it/s]\n"
     ]
    },
    {
     "name": "stdout",
     "output_type": "stream",
     "text": [
      "oppo_c200 oppo_c350 -1413.05\n"
     ]
    },
    {
     "name": "stderr",
     "output_type": "stream",
     "text": [
      "100%|██████████| 5000/5000 [00:30<00:00, 165.35it/s]\n",
      "100%|██████████| 5000/5000 [00:27<00:00, 183.80it/s]\n"
     ]
    },
    {
     "name": "stdout",
     "output_type": "stream",
     "text": [
      "oppo_c200 oppo_c400 833.7\n"
     ]
    },
    {
     "name": "stderr",
     "output_type": "stream",
     "text": [
      "100%|██████████| 5000/5000 [00:29<00:00, 170.20it/s]\n",
      "100%|██████████| 5000/5000 [00:28<00:00, 172.54it/s]\n"
     ]
    },
    {
     "name": "stdout",
     "output_type": "stream",
     "text": [
      "oppo_c200 oppo_c450 -3356.75\n"
     ]
    },
    {
     "name": "stderr",
     "output_type": "stream",
     "text": [
      "100%|██████████| 5000/5000 [00:30<00:00, 165.95it/s]\n",
      "100%|██████████| 5000/5000 [00:30<00:00, 166.51it/s]\n"
     ]
    },
    {
     "name": "stdout",
     "output_type": "stream",
     "text": [
      "oppo_c200 oppo_c500 -3497.3\n"
     ]
    },
    {
     "name": "stderr",
     "output_type": "stream",
     "text": [
      "100%|██████████| 5000/5000 [00:28<00:00, 174.56it/s]\n",
      "100%|██████████| 5000/5000 [00:28<00:00, 175.02it/s]\n"
     ]
    },
    {
     "name": "stdout",
     "output_type": "stream",
     "text": [
      "oppo_c200 oppo_c550 -1473.25\n"
     ]
    },
    {
     "name": "stderr",
     "output_type": "stream",
     "text": [
      "100%|██████████| 5000/5000 [00:24<00:00, 207.43it/s]\n",
      "100%|██████████| 5000/5000 [00:27<00:00, 182.21it/s]\n"
     ]
    },
    {
     "name": "stdout",
     "output_type": "stream",
     "text": [
      "oppo_c200 oppo_c600 -4090.9000000000005\n"
     ]
    },
    {
     "name": "stderr",
     "output_type": "stream",
     "text": [
      "100%|██████████| 5000/5000 [00:25<00:00, 193.91it/s]\n",
      "100%|██████████| 5000/5000 [00:28<00:00, 176.39it/s]\n"
     ]
    },
    {
     "name": "stdout",
     "output_type": "stream",
     "text": [
      "oppo_c200 oppo_c650 -6105.900000000001\n"
     ]
    },
    {
     "name": "stderr",
     "output_type": "stream",
     "text": [
      "100%|██████████| 5000/5000 [00:25<00:00, 197.77it/s]\n",
      "100%|██████████| 5000/5000 [00:29<00:00, 168.66it/s]\n"
     ]
    },
    {
     "name": "stdout",
     "output_type": "stream",
     "text": [
      "oppo_c200 oppo_c700 -5354.8\n"
     ]
    },
    {
     "name": "stderr",
     "output_type": "stream",
     "text": [
      "100%|██████████| 5000/5000 [00:25<00:00, 194.50it/s]\n",
      "100%|██████████| 5000/5000 [00:28<00:00, 172.87it/s]\n"
     ]
    },
    {
     "name": "stdout",
     "output_type": "stream",
     "text": [
      "oppo_c200 oppo_c750 -5109.200000000001\n"
     ]
    },
    {
     "name": "stderr",
     "output_type": "stream",
     "text": [
      "100%|██████████| 5000/5000 [00:25<00:00, 197.69it/s]\n",
      "100%|██████████| 5000/5000 [00:27<00:00, 181.83it/s]\n"
     ]
    },
    {
     "name": "stdout",
     "output_type": "stream",
     "text": [
      "oppo_c200 oppo_c800 -254.14999999999998\n"
     ]
    },
    {
     "name": "stderr",
     "output_type": "stream",
     "text": [
      "100%|██████████| 5000/5000 [00:23<00:00, 209.17it/s]\n",
      "100%|██████████| 5000/5000 [00:27<00:00, 183.00it/s]\n"
     ]
    },
    {
     "name": "stdout",
     "output_type": "stream",
     "text": [
      "oppo_c200 oppo_c850 -1774.8999999999999\n"
     ]
    },
    {
     "name": "stderr",
     "output_type": "stream",
     "text": [
      "100%|██████████| 5000/5000 [00:23<00:00, 215.75it/s]\n",
      "100%|██████████| 5000/5000 [00:27<00:00, 182.96it/s]\n"
     ]
    },
    {
     "name": "stdout",
     "output_type": "stream",
     "text": [
      "oppo_c200 oppo_c900 -2328.05\n"
     ]
    },
    {
     "name": "stderr",
     "output_type": "stream",
     "text": [
      "100%|██████████| 5000/5000 [00:11<00:00, 418.99it/s]\n",
      "100%|██████████| 5000/5000 [00:16<00:00, 300.28it/s]\n"
     ]
    },
    {
     "name": "stdout",
     "output_type": "stream",
     "text": [
      "oppo_c250 oppo_c0 1507.25\n"
     ]
    },
    {
     "name": "stderr",
     "output_type": "stream",
     "text": [
      "100%|██████████| 5000/5000 [00:22<00:00, 224.78it/s]\n",
      "100%|██████████| 5000/5000 [00:27<00:00, 181.45it/s]\n"
     ]
    },
    {
     "name": "stdout",
     "output_type": "stream",
     "text": [
      "oppo_c250 oppo_c50 2612.25\n"
     ]
    },
    {
     "name": "stderr",
     "output_type": "stream",
     "text": [
      "100%|██████████| 5000/5000 [00:25<00:00, 193.34it/s]\n",
      "100%|██████████| 5000/5000 [00:23<00:00, 209.10it/s]\n"
     ]
    },
    {
     "name": "stdout",
     "output_type": "stream",
     "text": [
      "oppo_c250 oppo_c100 1464.8000000000002\n"
     ]
    },
    {
     "name": "stderr",
     "output_type": "stream",
     "text": [
      "100%|██████████| 5000/5000 [00:26<00:00, 185.46it/s]\n",
      "100%|██████████| 5000/5000 [00:24<00:00, 206.26it/s]\n"
     ]
    },
    {
     "name": "stdout",
     "output_type": "stream",
     "text": [
      "oppo_c250 oppo_c150 3663.95\n"
     ]
    },
    {
     "name": "stderr",
     "output_type": "stream",
     "text": [
      "100%|██████████| 5000/5000 [00:28<00:00, 173.26it/s]\n",
      "100%|██████████| 5000/5000 [00:26<00:00, 189.02it/s]\n"
     ]
    },
    {
     "name": "stdout",
     "output_type": "stream",
     "text": [
      "oppo_c250 oppo_c200 1757.45\n"
     ]
    },
    {
     "name": "stderr",
     "output_type": "stream",
     "text": [
      "100%|██████████| 5000/5000 [00:29<00:00, 169.72it/s]\n",
      "100%|██████████| 5000/5000 [00:28<00:00, 175.86it/s]\n"
     ]
    },
    {
     "name": "stdout",
     "output_type": "stream",
     "text": [
      "oppo_c250 oppo_c250 -296.8\n"
     ]
    },
    {
     "name": "stderr",
     "output_type": "stream",
     "text": [
      "100%|██████████| 5000/5000 [00:32<00:00, 154.93it/s]\n",
      "100%|██████████| 5000/5000 [00:25<00:00, 194.23it/s]\n"
     ]
    },
    {
     "name": "stdout",
     "output_type": "stream",
     "text": [
      "oppo_c250 oppo_c300 -1160.9\n"
     ]
    },
    {
     "name": "stderr",
     "output_type": "stream",
     "text": [
      "100%|██████████| 5000/5000 [00:36<00:00, 136.17it/s]\n",
      "100%|██████████| 5000/5000 [00:27<00:00, 182.31it/s]\n"
     ]
    },
    {
     "name": "stdout",
     "output_type": "stream",
     "text": [
      "oppo_c250 oppo_c350 -3552.45\n"
     ]
    },
    {
     "name": "stderr",
     "output_type": "stream",
     "text": [
      "100%|██████████| 5000/5000 [00:33<00:00, 151.49it/s]\n",
      "100%|██████████| 5000/5000 [00:27<00:00, 178.91it/s]\n"
     ]
    },
    {
     "name": "stdout",
     "output_type": "stream",
     "text": [
      "oppo_c250 oppo_c400 -2594.6\n"
     ]
    },
    {
     "name": "stderr",
     "output_type": "stream",
     "text": [
      "100%|██████████| 5000/5000 [00:29<00:00, 166.81it/s]\n",
      "100%|██████████| 5000/5000 [00:28<00:00, 177.76it/s]\n"
     ]
    },
    {
     "name": "stdout",
     "output_type": "stream",
     "text": [
      "oppo_c250 oppo_c450 -2455.85\n"
     ]
    },
    {
     "name": "stderr",
     "output_type": "stream",
     "text": [
      "100%|██████████| 5000/5000 [00:30<00:00, 164.34it/s]\n",
      "100%|██████████| 5000/5000 [00:28<00:00, 176.22it/s]\n"
     ]
    },
    {
     "name": "stdout",
     "output_type": "stream",
     "text": [
      "oppo_c250 oppo_c500 -1106.6499999999999\n"
     ]
    },
    {
     "name": "stderr",
     "output_type": "stream",
     "text": [
      "100%|██████████| 5000/5000 [00:29<00:00, 168.32it/s]\n",
      "100%|██████████| 5000/5000 [00:28<00:00, 178.35it/s]\n"
     ]
    },
    {
     "name": "stdout",
     "output_type": "stream",
     "text": [
      "oppo_c250 oppo_c550 -2432.9\n"
     ]
    },
    {
     "name": "stderr",
     "output_type": "stream",
     "text": [
      "100%|██████████| 5000/5000 [00:26<00:00, 186.35it/s]\n",
      "100%|██████████| 5000/5000 [00:26<00:00, 186.40it/s]\n"
     ]
    },
    {
     "name": "stdout",
     "output_type": "stream",
     "text": [
      "oppo_c250 oppo_c600 -2111.35\n"
     ]
    },
    {
     "name": "stderr",
     "output_type": "stream",
     "text": [
      "100%|██████████| 5000/5000 [00:29<00:00, 172.04it/s]\n",
      "100%|██████████| 5000/5000 [00:27<00:00, 182.79it/s]\n"
     ]
    },
    {
     "name": "stdout",
     "output_type": "stream",
     "text": [
      "oppo_c250 oppo_c650 -3366.25\n"
     ]
    },
    {
     "name": "stderr",
     "output_type": "stream",
     "text": [
      "100%|██████████| 5000/5000 [00:27<00:00, 180.60it/s]\n",
      "100%|██████████| 5000/5000 [00:24<00:00, 203.39it/s]\n"
     ]
    },
    {
     "name": "stdout",
     "output_type": "stream",
     "text": [
      "oppo_c250 oppo_c700 -2679.8\n"
     ]
    },
    {
     "name": "stderr",
     "output_type": "stream",
     "text": [
      "100%|██████████| 5000/5000 [00:27<00:00, 184.49it/s]\n",
      "100%|██████████| 5000/5000 [00:26<00:00, 187.98it/s]\n"
     ]
    },
    {
     "name": "stdout",
     "output_type": "stream",
     "text": [
      "oppo_c250 oppo_c750 -1556.95\n"
     ]
    },
    {
     "name": "stderr",
     "output_type": "stream",
     "text": [
      "100%|██████████| 5000/5000 [00:27<00:00, 182.17it/s]\n",
      "100%|██████████| 5000/5000 [00:26<00:00, 188.41it/s]\n"
     ]
    },
    {
     "name": "stdout",
     "output_type": "stream",
     "text": [
      "oppo_c250 oppo_c800 -1126.5\n"
     ]
    },
    {
     "name": "stderr",
     "output_type": "stream",
     "text": [
      "100%|██████████| 5000/5000 [00:26<00:00, 189.64it/s]\n",
      "100%|██████████| 5000/5000 [00:26<00:00, 185.73it/s]\n"
     ]
    },
    {
     "name": "stdout",
     "output_type": "stream",
     "text": [
      "oppo_c250 oppo_c850 -1087.6\n"
     ]
    },
    {
     "name": "stderr",
     "output_type": "stream",
     "text": [
      "100%|██████████| 5000/5000 [00:25<00:00, 197.81it/s]\n",
      "100%|██████████| 5000/5000 [00:27<00:00, 182.21it/s]\n"
     ]
    },
    {
     "name": "stdout",
     "output_type": "stream",
     "text": [
      "oppo_c250 oppo_c900 -1038.75\n"
     ]
    },
    {
     "name": "stderr",
     "output_type": "stream",
     "text": [
      "100%|██████████| 5000/5000 [00:10<00:00, 459.05it/s]\n",
      "100%|██████████| 5000/5000 [00:16<00:00, 305.28it/s]\n"
     ]
    },
    {
     "name": "stdout",
     "output_type": "stream",
     "text": [
      "oppo_c300 oppo_c0 1322.8\n"
     ]
    },
    {
     "name": "stderr",
     "output_type": "stream",
     "text": [
      "100%|██████████| 5000/5000 [00:22<00:00, 224.81it/s]\n",
      "100%|██████████| 5000/5000 [00:28<00:00, 174.95it/s]\n"
     ]
    },
    {
     "name": "stdout",
     "output_type": "stream",
     "text": [
      "oppo_c300 oppo_c50 1975.6499999999999\n"
     ]
    },
    {
     "name": "stderr",
     "output_type": "stream",
     "text": [
      "100%|██████████| 5000/5000 [00:27<00:00, 183.72it/s]\n",
      "100%|██████████| 5000/5000 [00:30<00:00, 164.69it/s]\n"
     ]
    },
    {
     "name": "stdout",
     "output_type": "stream",
     "text": [
      "oppo_c300 oppo_c100 1340.4\n"
     ]
    },
    {
     "name": "stderr",
     "output_type": "stream",
     "text": [
      "100%|██████████| 5000/5000 [00:29<00:00, 167.15it/s]\n",
      "100%|██████████| 5000/5000 [00:31<00:00, 157.25it/s]\n"
     ]
    },
    {
     "name": "stdout",
     "output_type": "stream",
     "text": [
      "oppo_c300 oppo_c150 -602.8\n"
     ]
    },
    {
     "name": "stderr",
     "output_type": "stream",
     "text": [
      "100%|██████████| 5000/5000 [00:29<00:00, 167.20it/s]\n",
      "100%|██████████| 5000/5000 [00:33<00:00, 151.23it/s]\n"
     ]
    },
    {
     "name": "stdout",
     "output_type": "stream",
     "text": [
      "oppo_c300 oppo_c200 2926.65\n"
     ]
    },
    {
     "name": "stderr",
     "output_type": "stream",
     "text": [
      "100%|██████████| 5000/5000 [00:25<00:00, 197.11it/s]\n",
      "100%|██████████| 5000/5000 [00:31<00:00, 156.92it/s]\n"
     ]
    },
    {
     "name": "stdout",
     "output_type": "stream",
     "text": [
      "oppo_c300 oppo_c250 1057.7\n"
     ]
    },
    {
     "name": "stderr",
     "output_type": "stream",
     "text": [
      "100%|██████████| 5000/5000 [00:27<00:00, 184.67it/s]\n",
      "100%|██████████| 5000/5000 [00:26<00:00, 187.15it/s]\n"
     ]
    },
    {
     "name": "stdout",
     "output_type": "stream",
     "text": [
      "oppo_c300 oppo_c300 14.65\n"
     ]
    },
    {
     "name": "stderr",
     "output_type": "stream",
     "text": [
      "100%|██████████| 5000/5000 [00:26<00:00, 187.86it/s]\n",
      "100%|██████████| 5000/5000 [00:30<00:00, 162.55it/s]\n"
     ]
    },
    {
     "name": "stdout",
     "output_type": "stream",
     "text": [
      "oppo_c300 oppo_c350 -890.6500000000001\n"
     ]
    },
    {
     "name": "stderr",
     "output_type": "stream",
     "text": [
      "100%|██████████| 5000/5000 [00:29<00:00, 168.67it/s]\n",
      "100%|██████████| 5000/5000 [00:32<00:00, 153.45it/s]\n"
     ]
    },
    {
     "name": "stdout",
     "output_type": "stream",
     "text": [
      "oppo_c300 oppo_c400 -1752.1\n"
     ]
    },
    {
     "name": "stderr",
     "output_type": "stream",
     "text": [
      "100%|██████████| 5000/5000 [00:24<00:00, 203.95it/s]\n",
      "100%|██████████| 5000/5000 [00:35<00:00, 141.46it/s]\n"
     ]
    },
    {
     "name": "stdout",
     "output_type": "stream",
     "text": [
      "oppo_c300 oppo_c450 -5274.5\n"
     ]
    },
    {
     "name": "stderr",
     "output_type": "stream",
     "text": [
      "100%|██████████| 5000/5000 [00:27<00:00, 183.60it/s]\n",
      "100%|██████████| 5000/5000 [00:32<00:00, 152.14it/s]\n"
     ]
    },
    {
     "name": "stdout",
     "output_type": "stream",
     "text": [
      "oppo_c300 oppo_c500 -1380.45\n"
     ]
    },
    {
     "name": "stderr",
     "output_type": "stream",
     "text": [
      "100%|██████████| 5000/5000 [00:27<00:00, 179.54it/s]\n",
      "100%|██████████| 5000/5000 [00:30<00:00, 164.22it/s]\n"
     ]
    },
    {
     "name": "stdout",
     "output_type": "stream",
     "text": [
      "oppo_c300 oppo_c550 -1932.9\n"
     ]
    },
    {
     "name": "stderr",
     "output_type": "stream",
     "text": [
      "100%|██████████| 5000/5000 [00:24<00:00, 206.27it/s]\n",
      "100%|██████████| 5000/5000 [00:29<00:00, 171.93it/s]\n"
     ]
    },
    {
     "name": "stdout",
     "output_type": "stream",
     "text": [
      "oppo_c300 oppo_c600 -1331.5\n"
     ]
    },
    {
     "name": "stderr",
     "output_type": "stream",
     "text": [
      "100%|██████████| 5000/5000 [00:24<00:00, 204.05it/s]\n",
      "100%|██████████| 5000/5000 [00:32<00:00, 155.23it/s]\n"
     ]
    },
    {
     "name": "stdout",
     "output_type": "stream",
     "text": [
      "oppo_c300 oppo_c650 -3110.7999999999997\n"
     ]
    },
    {
     "name": "stderr",
     "output_type": "stream",
     "text": [
      "100%|██████████| 5000/5000 [00:22<00:00, 217.47it/s]\n",
      "100%|██████████| 5000/5000 [00:31<00:00, 158.95it/s]\n"
     ]
    },
    {
     "name": "stdout",
     "output_type": "stream",
     "text": [
      "oppo_c300 oppo_c700 -2383.95\n"
     ]
    },
    {
     "name": "stderr",
     "output_type": "stream",
     "text": [
      "100%|██████████| 5000/5000 [00:24<00:00, 207.20it/s]\n",
      "100%|██████████| 5000/5000 [00:30<00:00, 162.62it/s]\n"
     ]
    },
    {
     "name": "stdout",
     "output_type": "stream",
     "text": [
      "oppo_c300 oppo_c750 -3504.95\n"
     ]
    },
    {
     "name": "stderr",
     "output_type": "stream",
     "text": [
      "100%|██████████| 5000/5000 [00:25<00:00, 196.90it/s]\n",
      "100%|██████████| 5000/5000 [00:28<00:00, 174.80it/s]\n"
     ]
    },
    {
     "name": "stdout",
     "output_type": "stream",
     "text": [
      "oppo_c300 oppo_c800 -813.2\n"
     ]
    },
    {
     "name": "stderr",
     "output_type": "stream",
     "text": [
      "100%|██████████| 5000/5000 [00:25<00:00, 196.15it/s]\n",
      "100%|██████████| 5000/5000 [00:28<00:00, 173.96it/s]\n"
     ]
    },
    {
     "name": "stdout",
     "output_type": "stream",
     "text": [
      "oppo_c300 oppo_c850 -1601.2\n"
     ]
    },
    {
     "name": "stderr",
     "output_type": "stream",
     "text": [
      "100%|██████████| 5000/5000 [00:24<00:00, 203.82it/s]\n",
      "100%|██████████| 5000/5000 [00:30<00:00, 164.95it/s]\n"
     ]
    },
    {
     "name": "stdout",
     "output_type": "stream",
     "text": [
      "oppo_c300 oppo_c900 -1948.9\n"
     ]
    },
    {
     "name": "stderr",
     "output_type": "stream",
     "text": [
      "100%|██████████| 5000/5000 [00:11<00:00, 448.83it/s]\n",
      "100%|██████████| 5000/5000 [00:16<00:00, 298.16it/s]\n"
     ]
    },
    {
     "name": "stdout",
     "output_type": "stream",
     "text": [
      "oppo_c350 oppo_c0 1422.3\n"
     ]
    },
    {
     "name": "stderr",
     "output_type": "stream",
     "text": [
      "100%|██████████| 5000/5000 [00:22<00:00, 222.69it/s]\n",
      "100%|██████████| 5000/5000 [00:28<00:00, 176.52it/s]\n"
     ]
    },
    {
     "name": "stdout",
     "output_type": "stream",
     "text": [
      "oppo_c350 oppo_c50 2462.1\n"
     ]
    },
    {
     "name": "stderr",
     "output_type": "stream",
     "text": [
      "100%|██████████| 5000/5000 [00:28<00:00, 175.10it/s]\n",
      "100%|██████████| 5000/5000 [00:26<00:00, 185.89it/s]\n"
     ]
    },
    {
     "name": "stdout",
     "output_type": "stream",
     "text": [
      "oppo_c350 oppo_c100 2045.1999999999998\n"
     ]
    },
    {
     "name": "stderr",
     "output_type": "stream",
     "text": [
      "100%|██████████| 5000/5000 [00:28<00:00, 173.94it/s]\n",
      "100%|██████████| 5000/5000 [00:26<00:00, 185.31it/s]\n"
     ]
    },
    {
     "name": "stdout",
     "output_type": "stream",
     "text": [
      "oppo_c350 oppo_c150 2982.45\n"
     ]
    },
    {
     "name": "stderr",
     "output_type": "stream",
     "text": [
      "100%|██████████| 5000/5000 [00:29<00:00, 169.47it/s]\n",
      "100%|██████████| 5000/5000 [00:29<00:00, 172.37it/s]\n"
     ]
    },
    {
     "name": "stdout",
     "output_type": "stream",
     "text": [
      "oppo_c350 oppo_c200 1939.05\n"
     ]
    },
    {
     "name": "stderr",
     "output_type": "stream",
     "text": [
      "100%|██████████| 5000/5000 [00:26<00:00, 189.32it/s]\n",
      "100%|██████████| 5000/5000 [00:36<00:00, 136.03it/s]\n"
     ]
    },
    {
     "name": "stdout",
     "output_type": "stream",
     "text": [
      "oppo_c350 oppo_c250 4035.4\n"
     ]
    },
    {
     "name": "stderr",
     "output_type": "stream",
     "text": [
      "100%|██████████| 5000/5000 [00:31<00:00, 156.47it/s]\n",
      "100%|██████████| 5000/5000 [00:27<00:00, 182.26it/s]\n"
     ]
    },
    {
     "name": "stdout",
     "output_type": "stream",
     "text": [
      "oppo_c350 oppo_c300 498.2\n"
     ]
    },
    {
     "name": "stderr",
     "output_type": "stream",
     "text": [
      "100%|██████████| 5000/5000 [00:37<00:00, 132.58it/s]\n",
      "100%|██████████| 5000/5000 [00:37<00:00, 134.64it/s]\n"
     ]
    },
    {
     "name": "stdout",
     "output_type": "stream",
     "text": [
      "oppo_c350 oppo_c350 -190.85\n"
     ]
    },
    {
     "name": "stderr",
     "output_type": "stream",
     "text": [
      "100%|██████████| 5000/5000 [00:33<00:00, 151.04it/s]\n",
      "100%|██████████| 5000/5000 [00:31<00:00, 159.46it/s]\n"
     ]
    },
    {
     "name": "stdout",
     "output_type": "stream",
     "text": [
      "oppo_c350 oppo_c400 -2940.7999999999997\n"
     ]
    },
    {
     "name": "stderr",
     "output_type": "stream",
     "text": [
      "100%|██████████| 5000/5000 [00:26<00:00, 189.88it/s]\n",
      "100%|██████████| 5000/5000 [00:33<00:00, 149.43it/s]\n"
     ]
    },
    {
     "name": "stdout",
     "output_type": "stream",
     "text": [
      "oppo_c350 oppo_c450 -808.2\n"
     ]
    },
    {
     "name": "stderr",
     "output_type": "stream",
     "text": [
      "100%|██████████| 5000/5000 [00:27<00:00, 181.69it/s]\n",
      "100%|██████████| 5000/5000 [00:32<00:00, 154.38it/s]\n"
     ]
    },
    {
     "name": "stdout",
     "output_type": "stream",
     "text": [
      "oppo_c350 oppo_c500 -3869.75\n"
     ]
    },
    {
     "name": "stderr",
     "output_type": "stream",
     "text": [
      "100%|██████████| 5000/5000 [00:28<00:00, 178.26it/s]\n",
      "100%|██████████| 5000/5000 [00:31<00:00, 157.28it/s]\n"
     ]
    },
    {
     "name": "stdout",
     "output_type": "stream",
     "text": [
      "oppo_c350 oppo_c550 -2237.1\n"
     ]
    },
    {
     "name": "stderr",
     "output_type": "stream",
     "text": [
      "100%|██████████| 5000/5000 [00:26<00:00, 192.28it/s]\n",
      "100%|██████████| 5000/5000 [00:32<00:00, 153.89it/s]\n"
     ]
    },
    {
     "name": "stdout",
     "output_type": "stream",
     "text": [
      "oppo_c350 oppo_c600 -1491.55\n"
     ]
    },
    {
     "name": "stderr",
     "output_type": "stream",
     "text": [
      "100%|██████████| 5000/5000 [00:21<00:00, 231.34it/s]\n",
      "100%|██████████| 5000/5000 [00:32<00:00, 151.52it/s]\n"
     ]
    },
    {
     "name": "stdout",
     "output_type": "stream",
     "text": [
      "oppo_c350 oppo_c650 -3086.05\n"
     ]
    },
    {
     "name": "stderr",
     "output_type": "stream",
     "text": [
      "100%|██████████| 5000/5000 [00:21<00:00, 229.51it/s]\n",
      "100%|██████████| 5000/5000 [00:32<00:00, 155.97it/s]\n"
     ]
    },
    {
     "name": "stdout",
     "output_type": "stream",
     "text": [
      "oppo_c350 oppo_c700 -3747.1\n"
     ]
    },
    {
     "name": "stderr",
     "output_type": "stream",
     "text": [
      "100%|██████████| 5000/5000 [00:21<00:00, 231.67it/s]\n",
      "100%|██████████| 5000/5000 [00:32<00:00, 153.17it/s]\n"
     ]
    },
    {
     "name": "stdout",
     "output_type": "stream",
     "text": [
      "oppo_c350 oppo_c750 -2516.5\n"
     ]
    },
    {
     "name": "stderr",
     "output_type": "stream",
     "text": [
      "100%|██████████| 5000/5000 [00:22<00:00, 219.12it/s]\n",
      "100%|██████████| 5000/5000 [00:29<00:00, 169.42it/s]\n"
     ]
    },
    {
     "name": "stdout",
     "output_type": "stream",
     "text": [
      "oppo_c350 oppo_c800 -1023.35\n"
     ]
    },
    {
     "name": "stderr",
     "output_type": "stream",
     "text": [
      "100%|██████████| 5000/5000 [00:23<00:00, 208.40it/s]\n",
      "100%|██████████| 5000/5000 [00:29<00:00, 169.36it/s]\n"
     ]
    },
    {
     "name": "stdout",
     "output_type": "stream",
     "text": [
      "oppo_c350 oppo_c850 -1724.3500000000001\n"
     ]
    },
    {
     "name": "stderr",
     "output_type": "stream",
     "text": [
      "100%|██████████| 5000/5000 [00:24<00:00, 206.57it/s]\n",
      "100%|██████████| 5000/5000 [00:28<00:00, 173.92it/s]\n"
     ]
    },
    {
     "name": "stdout",
     "output_type": "stream",
     "text": [
      "oppo_c350 oppo_c900 -1743.85\n"
     ]
    },
    {
     "name": "stderr",
     "output_type": "stream",
     "text": [
      "100%|██████████| 5000/5000 [00:11<00:00, 453.51it/s]\n",
      "100%|██████████| 5000/5000 [00:17<00:00, 291.41it/s]\n"
     ]
    },
    {
     "name": "stdout",
     "output_type": "stream",
     "text": [
      "oppo_c400 oppo_c0 1510.6\n"
     ]
    },
    {
     "name": "stderr",
     "output_type": "stream",
     "text": [
      "100%|██████████| 5000/5000 [00:22<00:00, 226.72it/s]\n",
      "100%|██████████| 5000/5000 [00:27<00:00, 179.78it/s]\n"
     ]
    },
    {
     "name": "stdout",
     "output_type": "stream",
     "text": [
      "oppo_c400 oppo_c50 1629.85\n"
     ]
    },
    {
     "name": "stderr",
     "output_type": "stream",
     "text": [
      "100%|██████████| 5000/5000 [00:27<00:00, 178.66it/s]\n",
      "100%|██████████| 5000/5000 [00:27<00:00, 184.57it/s]\n"
     ]
    },
    {
     "name": "stdout",
     "output_type": "stream",
     "text": [
      "oppo_c400 oppo_c100 545.0\n"
     ]
    },
    {
     "name": "stderr",
     "output_type": "stream",
     "text": [
      "100%|██████████| 5000/5000 [00:27<00:00, 178.58it/s]\n",
      "100%|██████████| 5000/5000 [00:29<00:00, 170.70it/s]\n"
     ]
    },
    {
     "name": "stdout",
     "output_type": "stream",
     "text": [
      "oppo_c400 oppo_c150 2363.9\n"
     ]
    },
    {
     "name": "stderr",
     "output_type": "stream",
     "text": [
      "100%|██████████| 5000/5000 [00:26<00:00, 190.32it/s]\n",
      "100%|██████████| 5000/5000 [00:29<00:00, 171.83it/s]\n"
     ]
    },
    {
     "name": "stdout",
     "output_type": "stream",
     "text": [
      "oppo_c400 oppo_c200 -818.2\n"
     ]
    },
    {
     "name": "stderr",
     "output_type": "stream",
     "text": [
      "100%|██████████| 5000/5000 [00:28<00:00, 178.46it/s]\n",
      "100%|██████████| 5000/5000 [00:31<00:00, 158.09it/s]\n"
     ]
    },
    {
     "name": "stdout",
     "output_type": "stream",
     "text": [
      "oppo_c400 oppo_c250 2689.0\n"
     ]
    },
    {
     "name": "stderr",
     "output_type": "stream",
     "text": [
      "100%|██████████| 5000/5000 [00:32<00:00, 155.53it/s]\n",
      "100%|██████████| 5000/5000 [00:29<00:00, 169.77it/s]\n"
     ]
    },
    {
     "name": "stdout",
     "output_type": "stream",
     "text": [
      "oppo_c400 oppo_c300 1387.05\n"
     ]
    },
    {
     "name": "stderr",
     "output_type": "stream",
     "text": [
      "100%|██████████| 5000/5000 [00:31<00:00, 159.42it/s]\n",
      "100%|██████████| 5000/5000 [00:31<00:00, 159.32it/s]\n"
     ]
    },
    {
     "name": "stdout",
     "output_type": "stream",
     "text": [
      "oppo_c400 oppo_c350 2815.4\n"
     ]
    },
    {
     "name": "stderr",
     "output_type": "stream",
     "text": [
      "100%|██████████| 5000/5000 [00:30<00:00, 163.03it/s]\n",
      "100%|██████████| 5000/5000 [00:30<00:00, 163.39it/s]\n"
     ]
    },
    {
     "name": "stdout",
     "output_type": "stream",
     "text": [
      "oppo_c400 oppo_c400 -277.15000000000003\n"
     ]
    },
    {
     "name": "stderr",
     "output_type": "stream",
     "text": [
      "100%|██████████| 5000/5000 [00:27<00:00, 179.40it/s]\n",
      "100%|██████████| 5000/5000 [00:31<00:00, 160.33it/s]\n"
     ]
    },
    {
     "name": "stdout",
     "output_type": "stream",
     "text": [
      "oppo_c400 oppo_c450 -2020.4499999999998\n"
     ]
    },
    {
     "name": "stderr",
     "output_type": "stream",
     "text": [
      "100%|██████████| 5000/5000 [00:28<00:00, 177.31it/s]\n",
      "100%|██████████| 5000/5000 [00:33<00:00, 150.06it/s]\n"
     ]
    },
    {
     "name": "stdout",
     "output_type": "stream",
     "text": [
      "oppo_c400 oppo_c500 -508.25\n"
     ]
    },
    {
     "name": "stderr",
     "output_type": "stream",
     "text": [
      "100%|██████████| 5000/5000 [00:31<00:00, 159.66it/s]\n",
      "100%|██████████| 5000/5000 [00:26<00:00, 185.68it/s]\n"
     ]
    },
    {
     "name": "stdout",
     "output_type": "stream",
     "text": [
      "oppo_c400 oppo_c550 -652.25\n"
     ]
    },
    {
     "name": "stderr",
     "output_type": "stream",
     "text": [
      "100%|██████████| 5000/5000 [00:28<00:00, 175.00it/s]\n",
      "100%|██████████| 5000/5000 [00:27<00:00, 182.11it/s]\n"
     ]
    },
    {
     "name": "stdout",
     "output_type": "stream",
     "text": [
      "oppo_c400 oppo_c600 -2886.1\n"
     ]
    },
    {
     "name": "stderr",
     "output_type": "stream",
     "text": [
      "100%|██████████| 5000/5000 [00:26<00:00, 186.63it/s]\n",
      "100%|██████████| 5000/5000 [00:28<00:00, 175.12it/s]\n"
     ]
    },
    {
     "name": "stdout",
     "output_type": "stream",
     "text": [
      "oppo_c400 oppo_c650 -1965.4499999999998\n"
     ]
    },
    {
     "name": "stderr",
     "output_type": "stream",
     "text": [
      "100%|██████████| 5000/5000 [00:27<00:00, 183.51it/s]\n",
      "100%|██████████| 5000/5000 [00:27<00:00, 179.30it/s]\n"
     ]
    },
    {
     "name": "stdout",
     "output_type": "stream",
     "text": [
      "oppo_c400 oppo_c700 -1452.3500000000001\n"
     ]
    },
    {
     "name": "stderr",
     "output_type": "stream",
     "text": [
      "100%|██████████| 5000/5000 [00:25<00:00, 192.90it/s]\n",
      "100%|██████████| 5000/5000 [00:28<00:00, 173.73it/s]\n"
     ]
    },
    {
     "name": "stdout",
     "output_type": "stream",
     "text": [
      "oppo_c400 oppo_c750 -2225.2999999999997\n"
     ]
    },
    {
     "name": "stderr",
     "output_type": "stream",
     "text": [
      "100%|██████████| 5000/5000 [00:27<00:00, 183.80it/s]\n",
      "100%|██████████| 5000/5000 [00:28<00:00, 176.80it/s]\n"
     ]
    },
    {
     "name": "stdout",
     "output_type": "stream",
     "text": [
      "oppo_c400 oppo_c800 -668.6\n"
     ]
    },
    {
     "name": "stderr",
     "output_type": "stream",
     "text": [
      "100%|██████████| 5000/5000 [00:27<00:00, 184.76it/s]\n",
      "100%|██████████| 5000/5000 [00:27<00:00, 184.35it/s]\n"
     ]
    },
    {
     "name": "stdout",
     "output_type": "stream",
     "text": [
      "oppo_c400 oppo_c850 -1139.1\n"
     ]
    },
    {
     "name": "stderr",
     "output_type": "stream",
     "text": [
      "100%|██████████| 5000/5000 [00:27<00:00, 179.63it/s]\n",
      "100%|██████████| 5000/5000 [00:26<00:00, 190.35it/s]\n"
     ]
    },
    {
     "name": "stdout",
     "output_type": "stream",
     "text": [
      "oppo_c400 oppo_c900 -851.9\n"
     ]
    },
    {
     "name": "stderr",
     "output_type": "stream",
     "text": [
      "100%|██████████| 5000/5000 [00:10<00:00, 468.58it/s]\n",
      "100%|██████████| 5000/5000 [00:16<00:00, 294.92it/s]\n"
     ]
    },
    {
     "name": "stdout",
     "output_type": "stream",
     "text": [
      "oppo_c450 oppo_c0 1470.55\n"
     ]
    },
    {
     "name": "stderr",
     "output_type": "stream",
     "text": [
      "100%|██████████| 5000/5000 [00:20<00:00, 249.24it/s]\n",
      "100%|██████████| 5000/5000 [00:26<00:00, 188.34it/s]\n"
     ]
    },
    {
     "name": "stdout",
     "output_type": "stream",
     "text": [
      "oppo_c450 oppo_c50 2574.95\n"
     ]
    },
    {
     "name": "stderr",
     "output_type": "stream",
     "text": [
      "100%|██████████| 5000/5000 [00:29<00:00, 169.21it/s]\n",
      "100%|██████████| 5000/5000 [00:17<00:00, 282.97it/s]\n"
     ]
    },
    {
     "name": "stdout",
     "output_type": "stream",
     "text": [
      "oppo_c450 oppo_c100 2928.25\n"
     ]
    },
    {
     "name": "stderr",
     "output_type": "stream",
     "text": [
      "100%|██████████| 5000/5000 [00:29<00:00, 168.24it/s]\n",
      "100%|██████████| 5000/5000 [00:30<00:00, 165.44it/s]\n"
     ]
    },
    {
     "name": "stdout",
     "output_type": "stream",
     "text": [
      "oppo_c450 oppo_c150 1448.95\n"
     ]
    },
    {
     "name": "stderr",
     "output_type": "stream",
     "text": [
      "100%|██████████| 5000/5000 [00:29<00:00, 167.69it/s]\n",
      "100%|██████████| 5000/5000 [00:29<00:00, 170.65it/s]\n"
     ]
    },
    {
     "name": "stdout",
     "output_type": "stream",
     "text": [
      "oppo_c450 oppo_c200 3523.1\n"
     ]
    },
    {
     "name": "stderr",
     "output_type": "stream",
     "text": [
      "100%|██████████| 5000/5000 [00:28<00:00, 178.09it/s]\n",
      "100%|██████████| 5000/5000 [00:30<00:00, 165.55it/s]\n"
     ]
    },
    {
     "name": "stdout",
     "output_type": "stream",
     "text": [
      "oppo_c450 oppo_c250 2323.3\n"
     ]
    },
    {
     "name": "stderr",
     "output_type": "stream",
     "text": [
      "100%|██████████| 5000/5000 [00:35<00:00, 139.49it/s]\n",
      "100%|██████████| 5000/5000 [00:24<00:00, 200.65it/s]\n"
     ]
    },
    {
     "name": "stdout",
     "output_type": "stream",
     "text": [
      "oppo_c450 oppo_c300 4870.8\n"
     ]
    },
    {
     "name": "stderr",
     "output_type": "stream",
     "text": [
      "100%|██████████| 5000/5000 [00:34<00:00, 145.13it/s]\n",
      "100%|██████████| 5000/5000 [00:26<00:00, 186.85it/s]\n"
     ]
    },
    {
     "name": "stdout",
     "output_type": "stream",
     "text": [
      "oppo_c450 oppo_c350 491.4\n"
     ]
    },
    {
     "name": "stderr",
     "output_type": "stream",
     "text": [
      "100%|██████████| 5000/5000 [00:31<00:00, 157.36it/s]\n",
      "100%|██████████| 5000/5000 [00:27<00:00, 179.53it/s]\n"
     ]
    },
    {
     "name": "stdout",
     "output_type": "stream",
     "text": [
      "oppo_c450 oppo_c400 2070.3\n"
     ]
    },
    {
     "name": "stderr",
     "output_type": "stream",
     "text": [
      "100%|██████████| 5000/5000 [00:30<00:00, 164.26it/s]\n",
      "100%|██████████| 5000/5000 [00:30<00:00, 164.95it/s]\n"
     ]
    },
    {
     "name": "stdout",
     "output_type": "stream",
     "text": [
      "oppo_c450 oppo_c450 25.45\n"
     ]
    },
    {
     "name": "stderr",
     "output_type": "stream",
     "text": [
      "100%|██████████| 5000/5000 [00:29<00:00, 170.44it/s]\n",
      "100%|██████████| 5000/5000 [00:30<00:00, 166.57it/s]\n"
     ]
    },
    {
     "name": "stdout",
     "output_type": "stream",
     "text": [
      "oppo_c450 oppo_c500 -847.1999999999999\n"
     ]
    },
    {
     "name": "stderr",
     "output_type": "stream",
     "text": [
      "100%|██████████| 5000/5000 [00:29<00:00, 167.97it/s]\n",
      "100%|██████████| 5000/5000 [00:29<00:00, 171.92it/s]\n"
     ]
    },
    {
     "name": "stdout",
     "output_type": "stream",
     "text": [
      "oppo_c450 oppo_c550 -415.7\n"
     ]
    },
    {
     "name": "stderr",
     "output_type": "stream",
     "text": [
      "100%|██████████| 5000/5000 [00:28<00:00, 174.96it/s]\n",
      "100%|██████████| 5000/5000 [00:28<00:00, 174.75it/s]\n"
     ]
    },
    {
     "name": "stdout",
     "output_type": "stream",
     "text": [
      "oppo_c450 oppo_c600 -4815.2\n"
     ]
    },
    {
     "name": "stderr",
     "output_type": "stream",
     "text": [
      "100%|██████████| 5000/5000 [00:26<00:00, 188.65it/s]\n",
      "100%|██████████| 5000/5000 [00:27<00:00, 184.63it/s]\n"
     ]
    },
    {
     "name": "stdout",
     "output_type": "stream",
     "text": [
      "oppo_c450 oppo_c650 -4337.0\n"
     ]
    },
    {
     "name": "stderr",
     "output_type": "stream",
     "text": [
      "100%|██████████| 5000/5000 [00:27<00:00, 183.94it/s]\n",
      "100%|██████████| 5000/5000 [00:27<00:00, 180.92it/s]\n"
     ]
    },
    {
     "name": "stdout",
     "output_type": "stream",
     "text": [
      "oppo_c450 oppo_c700 -3313.2999999999997\n"
     ]
    },
    {
     "name": "stderr",
     "output_type": "stream",
     "text": [
      "100%|██████████| 5000/5000 [00:27<00:00, 180.47it/s]\n",
      "100%|██████████| 5000/5000 [00:28<00:00, 173.96it/s]\n"
     ]
    },
    {
     "name": "stdout",
     "output_type": "stream",
     "text": [
      "oppo_c450 oppo_c750 -3656.6\n"
     ]
    },
    {
     "name": "stderr",
     "output_type": "stream",
     "text": [
      "100%|██████████| 5000/5000 [00:27<00:00, 182.88it/s]\n",
      "100%|██████████| 5000/5000 [00:28<00:00, 174.07it/s]\n"
     ]
    },
    {
     "name": "stdout",
     "output_type": "stream",
     "text": [
      "oppo_c450 oppo_c800 -1356.8\n"
     ]
    },
    {
     "name": "stderr",
     "output_type": "stream",
     "text": [
      "100%|██████████| 5000/5000 [00:27<00:00, 180.40it/s]\n",
      "100%|██████████| 5000/5000 [00:27<00:00, 183.82it/s]\n"
     ]
    },
    {
     "name": "stdout",
     "output_type": "stream",
     "text": [
      "oppo_c450 oppo_c850 -1676.85\n"
     ]
    },
    {
     "name": "stderr",
     "output_type": "stream",
     "text": [
      "100%|██████████| 5000/5000 [00:27<00:00, 179.38it/s]\n",
      "100%|██████████| 5000/5000 [00:26<00:00, 186.54it/s]\n"
     ]
    },
    {
     "name": "stdout",
     "output_type": "stream",
     "text": [
      "oppo_c450 oppo_c900 -1942.05\n"
     ]
    },
    {
     "name": "stderr",
     "output_type": "stream",
     "text": [
      "100%|██████████| 5000/5000 [00:11<00:00, 440.97it/s]\n",
      "100%|██████████| 5000/5000 [00:16<00:00, 295.00it/s]\n"
     ]
    },
    {
     "name": "stdout",
     "output_type": "stream",
     "text": [
      "oppo_c500 oppo_c0 1353.25\n"
     ]
    },
    {
     "name": "stderr",
     "output_type": "stream",
     "text": [
      "100%|██████████| 5000/5000 [00:24<00:00, 204.57it/s]\n",
      "100%|██████████| 5000/5000 [00:25<00:00, 196.92it/s]\n"
     ]
    },
    {
     "name": "stdout",
     "output_type": "stream",
     "text": [
      "oppo_c500 oppo_c50 1613.95\n"
     ]
    },
    {
     "name": "stderr",
     "output_type": "stream",
     "text": [
      "100%|██████████| 5000/5000 [00:26<00:00, 185.68it/s]\n",
      "100%|██████████| 5000/5000 [00:23<00:00, 209.06it/s]\n"
     ]
    },
    {
     "name": "stdout",
     "output_type": "stream",
     "text": [
      "oppo_c500 oppo_c100 1496.95\n"
     ]
    },
    {
     "name": "stderr",
     "output_type": "stream",
     "text": [
      "100%|██████████| 5000/5000 [00:29<00:00, 170.68it/s]\n",
      "100%|██████████| 5000/5000 [00:28<00:00, 172.63it/s]\n"
     ]
    },
    {
     "name": "stdout",
     "output_type": "stream",
     "text": [
      "oppo_c500 oppo_c150 2548.55\n"
     ]
    },
    {
     "name": "stderr",
     "output_type": "stream",
     "text": [
      "100%|██████████| 5000/5000 [00:30<00:00, 164.18it/s]\n",
      "100%|██████████| 5000/5000 [00:30<00:00, 161.44it/s]\n"
     ]
    },
    {
     "name": "stdout",
     "output_type": "stream",
     "text": [
      "oppo_c500 oppo_c200 4056.65\n"
     ]
    },
    {
     "name": "stderr",
     "output_type": "stream",
     "text": [
      "100%|██████████| 5000/5000 [00:29<00:00, 172.39it/s]\n",
      "100%|██████████| 5000/5000 [00:30<00:00, 166.48it/s]\n"
     ]
    },
    {
     "name": "stdout",
     "output_type": "stream",
     "text": [
      "oppo_c500 oppo_c250 1203.4499999999998\n"
     ]
    },
    {
     "name": "stderr",
     "output_type": "stream",
     "text": [
      "100%|██████████| 5000/5000 [00:33<00:00, 147.80it/s]\n",
      "100%|██████████| 5000/5000 [00:27<00:00, 183.66it/s]\n"
     ]
    },
    {
     "name": "stdout",
     "output_type": "stream",
     "text": [
      "oppo_c500 oppo_c300 1666.3\n"
     ]
    },
    {
     "name": "stderr",
     "output_type": "stream",
     "text": [
      "100%|██████████| 5000/5000 [00:32<00:00, 154.47it/s]\n",
      "100%|██████████| 5000/5000 [00:27<00:00, 181.60it/s]\n"
     ]
    },
    {
     "name": "stdout",
     "output_type": "stream",
     "text": [
      "oppo_c500 oppo_c350 3118.2\n"
     ]
    },
    {
     "name": "stderr",
     "output_type": "stream",
     "text": [
      "100%|██████████| 5000/5000 [00:34<00:00, 145.31it/s]\n",
      "100%|██████████| 5000/5000 [00:29<00:00, 169.05it/s]\n"
     ]
    },
    {
     "name": "stdout",
     "output_type": "stream",
     "text": [
      "oppo_c500 oppo_c400 863.85\n"
     ]
    },
    {
     "name": "stderr",
     "output_type": "stream",
     "text": [
      "100%|██████████| 5000/5000 [00:30<00:00, 164.00it/s]\n",
      "100%|██████████| 5000/5000 [00:29<00:00, 169.16it/s]\n"
     ]
    },
    {
     "name": "stdout",
     "output_type": "stream",
     "text": [
      "oppo_c500 oppo_c450 1856.45\n"
     ]
    },
    {
     "name": "stderr",
     "output_type": "stream",
     "text": [
      "100%|██████████| 5000/5000 [00:28<00:00, 177.52it/s]\n",
      "100%|██████████| 5000/5000 [00:28<00:00, 176.08it/s]\n"
     ]
    },
    {
     "name": "stdout",
     "output_type": "stream",
     "text": [
      "oppo_c500 oppo_c500 -206.3\n"
     ]
    },
    {
     "name": "stderr",
     "output_type": "stream",
     "text": [
      "100%|██████████| 5000/5000 [00:31<00:00, 161.16it/s]\n",
      "100%|██████████| 5000/5000 [00:27<00:00, 181.80it/s]\n"
     ]
    },
    {
     "name": "stdout",
     "output_type": "stream",
     "text": [
      "oppo_c500 oppo_c550 -1879.5\n"
     ]
    },
    {
     "name": "stderr",
     "output_type": "stream",
     "text": [
      "100%|██████████| 5000/5000 [00:28<00:00, 176.14it/s]\n",
      "100%|██████████| 5000/5000 [00:27<00:00, 182.83it/s]\n"
     ]
    },
    {
     "name": "stdout",
     "output_type": "stream",
     "text": [
      "oppo_c500 oppo_c600 -1529.1\n"
     ]
    },
    {
     "name": "stderr",
     "output_type": "stream",
     "text": [
      "100%|██████████| 5000/5000 [00:25<00:00, 195.23it/s]\n",
      "100%|██████████| 5000/5000 [00:27<00:00, 178.57it/s]\n"
     ]
    },
    {
     "name": "stdout",
     "output_type": "stream",
     "text": [
      "oppo_c500 oppo_c650 -2339.45\n"
     ]
    },
    {
     "name": "stderr",
     "output_type": "stream",
     "text": [
      "100%|██████████| 5000/5000 [00:26<00:00, 185.21it/s]\n",
      "100%|██████████| 5000/5000 [00:26<00:00, 186.63it/s]\n"
     ]
    },
    {
     "name": "stdout",
     "output_type": "stream",
     "text": [
      "oppo_c500 oppo_c700 -1727.4\n"
     ]
    },
    {
     "name": "stderr",
     "output_type": "stream",
     "text": [
      "100%|██████████| 5000/5000 [00:26<00:00, 189.23it/s]\n",
      "100%|██████████| 5000/5000 [00:29<00:00, 171.54it/s]\n"
     ]
    },
    {
     "name": "stdout",
     "output_type": "stream",
     "text": [
      "oppo_c500 oppo_c750 -2485.9\n"
     ]
    },
    {
     "name": "stderr",
     "output_type": "stream",
     "text": [
      "100%|██████████| 5000/5000 [00:27<00:00, 179.88it/s]\n",
      "100%|██████████| 5000/5000 [00:28<00:00, 175.31it/s]\n"
     ]
    },
    {
     "name": "stdout",
     "output_type": "stream",
     "text": [
      "oppo_c500 oppo_c800 -1389.3\n"
     ]
    },
    {
     "name": "stderr",
     "output_type": "stream",
     "text": [
      "100%|██████████| 5000/5000 [00:26<00:00, 186.35it/s]\n",
      "100%|██████████| 5000/5000 [00:24<00:00, 205.89it/s]\n"
     ]
    },
    {
     "name": "stdout",
     "output_type": "stream",
     "text": [
      "oppo_c500 oppo_c850 -1260.0\n"
     ]
    },
    {
     "name": "stderr",
     "output_type": "stream",
     "text": [
      "100%|██████████| 5000/5000 [00:28<00:00, 177.70it/s]\n",
      "100%|██████████| 5000/5000 [00:24<00:00, 204.23it/s]\n"
     ]
    },
    {
     "name": "stdout",
     "output_type": "stream",
     "text": [
      "oppo_c500 oppo_c900 -1360.55\n"
     ]
    },
    {
     "name": "stderr",
     "output_type": "stream",
     "text": [
      "100%|██████████| 5000/5000 [00:11<00:00, 440.17it/s]\n",
      "100%|██████████| 5000/5000 [00:18<00:00, 271.95it/s]\n"
     ]
    },
    {
     "name": "stdout",
     "output_type": "stream",
     "text": [
      "oppo_c550 oppo_c0 921.6999999999999\n"
     ]
    },
    {
     "name": "stderr",
     "output_type": "stream",
     "text": [
      "100%|██████████| 5000/5000 [00:23<00:00, 210.48it/s]\n",
      "100%|██████████| 5000/5000 [00:30<00:00, 163.46it/s]\n"
     ]
    },
    {
     "name": "stdout",
     "output_type": "stream",
     "text": [
      "oppo_c550 oppo_c50 944.6999999999999\n"
     ]
    },
    {
     "name": "stderr",
     "output_type": "stream",
     "text": [
      "100%|██████████| 5000/5000 [00:26<00:00, 188.34it/s]\n",
      "100%|██████████| 5000/5000 [00:24<00:00, 202.75it/s]\n"
     ]
    },
    {
     "name": "stdout",
     "output_type": "stream",
     "text": [
      "oppo_c550 oppo_c100 1062.6\n"
     ]
    },
    {
     "name": "stderr",
     "output_type": "stream",
     "text": [
      "100%|██████████| 5000/5000 [00:27<00:00, 180.98it/s]\n",
      "100%|██████████| 5000/5000 [00:27<00:00, 184.65it/s]\n"
     ]
    },
    {
     "name": "stdout",
     "output_type": "stream",
     "text": [
      "oppo_c550 oppo_c150 998.95\n"
     ]
    },
    {
     "name": "stderr",
     "output_type": "stream",
     "text": [
      "100%|██████████| 5000/5000 [00:28<00:00, 173.37it/s]\n",
      "100%|██████████| 5000/5000 [00:28<00:00, 176.65it/s]\n"
     ]
    },
    {
     "name": "stdout",
     "output_type": "stream",
     "text": [
      "oppo_c550 oppo_c200 1663.8\n"
     ]
    },
    {
     "name": "stderr",
     "output_type": "stream",
     "text": [
      "100%|██████████| 5000/5000 [00:27<00:00, 180.30it/s]\n",
      "100%|██████████| 5000/5000 [00:30<00:00, 163.57it/s]\n"
     ]
    },
    {
     "name": "stdout",
     "output_type": "stream",
     "text": [
      "oppo_c550 oppo_c250 2457.3999999999996\n"
     ]
    },
    {
     "name": "stderr",
     "output_type": "stream",
     "text": [
      "100%|██████████| 5000/5000 [00:30<00:00, 161.56it/s]\n",
      "100%|██████████| 5000/5000 [00:27<00:00, 180.16it/s]\n"
     ]
    },
    {
     "name": "stdout",
     "output_type": "stream",
     "text": [
      "oppo_c550 oppo_c300 1869.75\n"
     ]
    },
    {
     "name": "stderr",
     "output_type": "stream",
     "text": [
      "100%|██████████| 5000/5000 [00:30<00:00, 162.54it/s]\n",
      "100%|██████████| 5000/5000 [00:28<00:00, 175.21it/s]\n"
     ]
    },
    {
     "name": "stdout",
     "output_type": "stream",
     "text": [
      "oppo_c550 oppo_c350 2015.8999999999999\n"
     ]
    },
    {
     "name": "stderr",
     "output_type": "stream",
     "text": [
      "100%|██████████| 5000/5000 [00:26<00:00, 185.27it/s]\n",
      "100%|██████████| 5000/5000 [00:30<00:00, 164.46it/s]\n"
     ]
    },
    {
     "name": "stdout",
     "output_type": "stream",
     "text": [
      "oppo_c550 oppo_c400 737.65\n"
     ]
    },
    {
     "name": "stderr",
     "output_type": "stream",
     "text": [
      "100%|██████████| 5000/5000 [00:28<00:00, 173.60it/s]\n",
      "100%|██████████| 5000/5000 [00:29<00:00, 166.88it/s]\n"
     ]
    },
    {
     "name": "stdout",
     "output_type": "stream",
     "text": [
      "oppo_c550 oppo_c450 530.65\n"
     ]
    },
    {
     "name": "stderr",
     "output_type": "stream",
     "text": [
      "100%|██████████| 5000/5000 [00:27<00:00, 180.63it/s]\n",
      "100%|██████████| 5000/5000 [00:31<00:00, 161.20it/s]\n"
     ]
    },
    {
     "name": "stdout",
     "output_type": "stream",
     "text": [
      "oppo_c550 oppo_c500 1875.8999999999999\n"
     ]
    },
    {
     "name": "stderr",
     "output_type": "stream",
     "text": [
      "100%|██████████| 5000/5000 [00:33<00:00, 151.26it/s]\n",
      "100%|██████████| 5000/5000 [00:31<00:00, 157.36it/s]\n"
     ]
    },
    {
     "name": "stdout",
     "output_type": "stream",
     "text": [
      "oppo_c550 oppo_c550 86.65\n"
     ]
    },
    {
     "name": "stderr",
     "output_type": "stream",
     "text": [
      "100%|██████████| 5000/5000 [00:28<00:00, 173.24it/s]\n",
      "100%|██████████| 5000/5000 [00:29<00:00, 169.31it/s]\n"
     ]
    },
    {
     "name": "stdout",
     "output_type": "stream",
     "text": [
      "oppo_c550 oppo_c600 -1341.75\n"
     ]
    },
    {
     "name": "stderr",
     "output_type": "stream",
     "text": [
      "100%|██████████| 5000/5000 [00:24<00:00, 204.74it/s]\n",
      "100%|██████████| 5000/5000 [00:28<00:00, 172.67it/s]\n"
     ]
    },
    {
     "name": "stdout",
     "output_type": "stream",
     "text": [
      "oppo_c550 oppo_c650 -2592.65\n"
     ]
    },
    {
     "name": "stderr",
     "output_type": "stream",
     "text": [
      "100%|██████████| 5000/5000 [00:26<00:00, 187.49it/s]\n",
      "100%|██████████| 5000/5000 [00:29<00:00, 170.63it/s]\n"
     ]
    },
    {
     "name": "stdout",
     "output_type": "stream",
     "text": [
      "oppo_c550 oppo_c700 -1671.7\n"
     ]
    },
    {
     "name": "stderr",
     "output_type": "stream",
     "text": [
      "100%|██████████| 5000/5000 [00:24<00:00, 201.15it/s]\n",
      "100%|██████████| 5000/5000 [00:30<00:00, 162.80it/s]\n"
     ]
    },
    {
     "name": "stdout",
     "output_type": "stream",
     "text": [
      "oppo_c550 oppo_c750 -2670.8500000000004\n"
     ]
    },
    {
     "name": "stderr",
     "output_type": "stream",
     "text": [
      "100%|██████████| 5000/5000 [00:27<00:00, 183.46it/s]\n",
      "100%|██████████| 5000/5000 [00:29<00:00, 170.19it/s]\n"
     ]
    },
    {
     "name": "stdout",
     "output_type": "stream",
     "text": [
      "oppo_c550 oppo_c800 -1005.5000000000001\n"
     ]
    },
    {
     "name": "stderr",
     "output_type": "stream",
     "text": [
      "100%|██████████| 5000/5000 [00:27<00:00, 180.27it/s]\n",
      "100%|██████████| 5000/5000 [00:27<00:00, 182.32it/s]\n"
     ]
    },
    {
     "name": "stdout",
     "output_type": "stream",
     "text": [
      "oppo_c550 oppo_c850 -403.75\n"
     ]
    },
    {
     "name": "stderr",
     "output_type": "stream",
     "text": [
      "100%|██████████| 5000/5000 [00:27<00:00, 181.05it/s]\n",
      "100%|██████████| 5000/5000 [00:27<00:00, 181.95it/s]\n"
     ]
    },
    {
     "name": "stdout",
     "output_type": "stream",
     "text": [
      "oppo_c550 oppo_c900 -993.5500000000001\n"
     ]
    },
    {
     "name": "stderr",
     "output_type": "stream",
     "text": [
      "100%|██████████| 5000/5000 [00:11<00:00, 452.46it/s]\n",
      "100%|██████████| 5000/5000 [00:16<00:00, 306.93it/s]\n"
     ]
    },
    {
     "name": "stdout",
     "output_type": "stream",
     "text": [
      "oppo_c600 oppo_c0 1754.2\n"
     ]
    },
    {
     "name": "stderr",
     "output_type": "stream",
     "text": [
      "100%|██████████| 5000/5000 [00:24<00:00, 205.09it/s]\n",
      "100%|██████████| 5000/5000 [00:27<00:00, 178.70it/s]\n"
     ]
    },
    {
     "name": "stdout",
     "output_type": "stream",
     "text": [
      "oppo_c600 oppo_c50 1689.8\n"
     ]
    },
    {
     "name": "stderr",
     "output_type": "stream",
     "text": [
      "100%|██████████| 5000/5000 [00:23<00:00, 214.19it/s]\n",
      "100%|██████████| 5000/5000 [00:20<00:00, 243.25it/s]\n"
     ]
    },
    {
     "name": "stdout",
     "output_type": "stream",
     "text": [
      "oppo_c600 oppo_c100 1357.3\n"
     ]
    },
    {
     "name": "stderr",
     "output_type": "stream",
     "text": [
      "100%|██████████| 5000/5000 [00:28<00:00, 178.21it/s]\n",
      "100%|██████████| 5000/5000 [00:23<00:00, 211.16it/s]\n"
     ]
    },
    {
     "name": "stdout",
     "output_type": "stream",
     "text": [
      "oppo_c600 oppo_c150 2536.6499999999996\n"
     ]
    },
    {
     "name": "stderr",
     "output_type": "stream",
     "text": [
      "100%|██████████| 5000/5000 [00:27<00:00, 181.21it/s]\n",
      "100%|██████████| 5000/5000 [00:24<00:00, 201.95it/s]\n"
     ]
    },
    {
     "name": "stdout",
     "output_type": "stream",
     "text": [
      "oppo_c600 oppo_c200 4056.5\n"
     ]
    },
    {
     "name": "stderr",
     "output_type": "stream",
     "text": [
      "100%|██████████| 5000/5000 [00:26<00:00, 185.54it/s]\n",
      "100%|██████████| 5000/5000 [00:26<00:00, 186.97it/s]\n"
     ]
    },
    {
     "name": "stdout",
     "output_type": "stream",
     "text": [
      "oppo_c600 oppo_c250 2123.8\n"
     ]
    },
    {
     "name": "stderr",
     "output_type": "stream",
     "text": [
      "100%|██████████| 5000/5000 [00:29<00:00, 169.83it/s]\n",
      "100%|██████████| 5000/5000 [00:24<00:00, 205.53it/s]\n"
     ]
    },
    {
     "name": "stdout",
     "output_type": "stream",
     "text": [
      "oppo_c600 oppo_c300 2017.15\n"
     ]
    },
    {
     "name": "stderr",
     "output_type": "stream",
     "text": [
      "100%|██████████| 5000/5000 [00:32<00:00, 152.57it/s]\n",
      "100%|██████████| 5000/5000 [00:25<00:00, 198.03it/s]\n"
     ]
    },
    {
     "name": "stdout",
     "output_type": "stream",
     "text": [
      "oppo_c600 oppo_c350 2012.3999999999999\n"
     ]
    },
    {
     "name": "stderr",
     "output_type": "stream",
     "text": [
      "100%|██████████| 5000/5000 [00:27<00:00, 180.01it/s]\n",
      "100%|██████████| 5000/5000 [00:28<00:00, 173.88it/s]\n"
     ]
    },
    {
     "name": "stdout",
     "output_type": "stream",
     "text": [
      "oppo_c600 oppo_c400 2868.95\n"
     ]
    },
    {
     "name": "stderr",
     "output_type": "stream",
     "text": [
      "100%|██████████| 5000/5000 [00:27<00:00, 180.77it/s]\n",
      "100%|██████████| 5000/5000 [00:28<00:00, 177.41it/s]\n"
     ]
    },
    {
     "name": "stdout",
     "output_type": "stream",
     "text": [
      "oppo_c600 oppo_c450 5085.9\n"
     ]
    },
    {
     "name": "stderr",
     "output_type": "stream",
     "text": [
      "100%|██████████| 5000/5000 [00:27<00:00, 183.70it/s]\n",
      "100%|██████████| 5000/5000 [00:28<00:00, 177.53it/s]\n"
     ]
    },
    {
     "name": "stdout",
     "output_type": "stream",
     "text": [
      "oppo_c600 oppo_c500 1623.6\n"
     ]
    },
    {
     "name": "stderr",
     "output_type": "stream",
     "text": [
      "100%|██████████| 5000/5000 [00:30<00:00, 166.29it/s]\n",
      "100%|██████████| 5000/5000 [00:28<00:00, 175.15it/s]\n"
     ]
    },
    {
     "name": "stdout",
     "output_type": "stream",
     "text": [
      "oppo_c600 oppo_c550 1442.1\n"
     ]
    },
    {
     "name": "stderr",
     "output_type": "stream",
     "text": [
      "100%|██████████| 5000/5000 [00:26<00:00, 187.14it/s]\n",
      "100%|██████████| 5000/5000 [00:26<00:00, 185.92it/s]\n"
     ]
    },
    {
     "name": "stdout",
     "output_type": "stream",
     "text": [
      "oppo_c600 oppo_c600 -166.3\n"
     ]
    },
    {
     "name": "stderr",
     "output_type": "stream",
     "text": [
      "100%|██████████| 5000/5000 [00:26<00:00, 190.28it/s]\n",
      "100%|██████████| 5000/5000 [00:28<00:00, 176.41it/s]\n"
     ]
    },
    {
     "name": "stdout",
     "output_type": "stream",
     "text": [
      "oppo_c600 oppo_c650 -1075.95\n"
     ]
    },
    {
     "name": "stderr",
     "output_type": "stream",
     "text": [
      "100%|██████████| 5000/5000 [00:26<00:00, 188.54it/s]\n",
      "100%|██████████| 5000/5000 [00:27<00:00, 181.67it/s]\n"
     ]
    },
    {
     "name": "stdout",
     "output_type": "stream",
     "text": [
      "oppo_c600 oppo_c700 -1302.6\n"
     ]
    },
    {
     "name": "stderr",
     "output_type": "stream",
     "text": [
      "100%|██████████| 5000/5000 [00:27<00:00, 182.16it/s]\n",
      "100%|██████████| 5000/5000 [00:27<00:00, 179.85it/s]\n"
     ]
    },
    {
     "name": "stdout",
     "output_type": "stream",
     "text": [
      "oppo_c600 oppo_c750 -625.0\n"
     ]
    },
    {
     "name": "stderr",
     "output_type": "stream",
     "text": [
      "100%|██████████| 5000/5000 [00:26<00:00, 189.92it/s]\n",
      "100%|██████████| 5000/5000 [00:27<00:00, 183.35it/s]\n"
     ]
    },
    {
     "name": "stdout",
     "output_type": "stream",
     "text": [
      "oppo_c600 oppo_c800 -1149.4\n"
     ]
    },
    {
     "name": "stderr",
     "output_type": "stream",
     "text": [
      "100%|██████████| 5000/5000 [00:25<00:00, 196.42it/s]\n",
      "100%|██████████| 5000/5000 [00:26<00:00, 188.63it/s]\n"
     ]
    },
    {
     "name": "stdout",
     "output_type": "stream",
     "text": [
      "oppo_c600 oppo_c850 -707.05\n"
     ]
    },
    {
     "name": "stderr",
     "output_type": "stream",
     "text": [
      "100%|██████████| 5000/5000 [00:25<00:00, 197.47it/s]\n",
      "100%|██████████| 5000/5000 [00:26<00:00, 187.13it/s]\n"
     ]
    },
    {
     "name": "stdout",
     "output_type": "stream",
     "text": [
      "oppo_c600 oppo_c900 -1208.0500000000002\n"
     ]
    },
    {
     "name": "stderr",
     "output_type": "stream",
     "text": [
      "100%|██████████| 5000/5000 [00:10<00:00, 457.51it/s]\n",
      "100%|██████████| 5000/5000 [00:16<00:00, 300.28it/s]\n"
     ]
    },
    {
     "name": "stdout",
     "output_type": "stream",
     "text": [
      "oppo_c650 oppo_c0 1708.85\n"
     ]
    },
    {
     "name": "stderr",
     "output_type": "stream",
     "text": [
      "100%|██████████| 5000/5000 [00:22<00:00, 218.02it/s]\n",
      "100%|██████████| 5000/5000 [00:26<00:00, 186.36it/s]\n"
     ]
    },
    {
     "name": "stdout",
     "output_type": "stream",
     "text": [
      "oppo_c650 oppo_c50 2287.55\n"
     ]
    },
    {
     "name": "stderr",
     "output_type": "stream",
     "text": [
      "100%|██████████| 5000/5000 [00:26<00:00, 188.80it/s]\n",
      "100%|██████████| 5000/5000 [00:20<00:00, 247.29it/s]\n"
     ]
    },
    {
     "name": "stdout",
     "output_type": "stream",
     "text": [
      "oppo_c650 oppo_c100 1844.0\n"
     ]
    },
    {
     "name": "stderr",
     "output_type": "stream",
     "text": [
      "100%|██████████| 5000/5000 [00:28<00:00, 176.64it/s]\n",
      "100%|██████████| 5000/5000 [00:20<00:00, 240.46it/s]\n"
     ]
    },
    {
     "name": "stdout",
     "output_type": "stream",
     "text": [
      "oppo_c650 oppo_c150 3453.05\n"
     ]
    },
    {
     "name": "stderr",
     "output_type": "stream",
     "text": [
      "100%|██████████| 5000/5000 [00:27<00:00, 181.46it/s]\n",
      "100%|██████████| 5000/5000 [00:25<00:00, 195.45it/s]\n"
     ]
    },
    {
     "name": "stdout",
     "output_type": "stream",
     "text": [
      "oppo_c650 oppo_c200 5679.55\n"
     ]
    },
    {
     "name": "stderr",
     "output_type": "stream",
     "text": [
      "100%|██████████| 5000/5000 [00:26<00:00, 186.89it/s]\n",
      "100%|██████████| 5000/5000 [00:28<00:00, 176.60it/s]\n"
     ]
    },
    {
     "name": "stdout",
     "output_type": "stream",
     "text": [
      "oppo_c650 oppo_c250 3324.8\n"
     ]
    },
    {
     "name": "stderr",
     "output_type": "stream",
     "text": [
      "100%|██████████| 5000/5000 [00:31<00:00, 158.18it/s]\n",
      "100%|██████████| 5000/5000 [00:25<00:00, 198.36it/s]\n"
     ]
    },
    {
     "name": "stdout",
     "output_type": "stream",
     "text": [
      "oppo_c650 oppo_c300 3201.45\n"
     ]
    },
    {
     "name": "stderr",
     "output_type": "stream",
     "text": [
      "100%|██████████| 5000/5000 [00:32<00:00, 153.39it/s]\n",
      "100%|██████████| 5000/5000 [00:21<00:00, 234.73it/s]\n"
     ]
    },
    {
     "name": "stdout",
     "output_type": "stream",
     "text": [
      "oppo_c650 oppo_c350 3684.2000000000003\n"
     ]
    },
    {
     "name": "stderr",
     "output_type": "stream",
     "text": [
      "100%|██████████| 5000/5000 [00:28<00:00, 174.37it/s]\n",
      "100%|██████████| 5000/5000 [00:25<00:00, 193.25it/s]\n"
     ]
    },
    {
     "name": "stdout",
     "output_type": "stream",
     "text": [
      "oppo_c650 oppo_c400 1894.45\n"
     ]
    },
    {
     "name": "stderr",
     "output_type": "stream",
     "text": [
      "100%|██████████| 5000/5000 [00:26<00:00, 189.25it/s]\n",
      "100%|██████████| 5000/5000 [00:26<00:00, 186.51it/s]\n"
     ]
    },
    {
     "name": "stdout",
     "output_type": "stream",
     "text": [
      "oppo_c650 oppo_c450 3912.6\n"
     ]
    },
    {
     "name": "stderr",
     "output_type": "stream",
     "text": [
      "100%|██████████| 5000/5000 [00:27<00:00, 178.94it/s]\n",
      "100%|██████████| 5000/5000 [00:24<00:00, 200.77it/s]\n"
     ]
    },
    {
     "name": "stdout",
     "output_type": "stream",
     "text": [
      "oppo_c650 oppo_c500 2147.15\n"
     ]
    },
    {
     "name": "stderr",
     "output_type": "stream",
     "text": [
      "100%|██████████| 5000/5000 [00:28<00:00, 176.62it/s]\n",
      "100%|██████████| 5000/5000 [00:24<00:00, 203.75it/s]\n"
     ]
    },
    {
     "name": "stdout",
     "output_type": "stream",
     "text": [
      "oppo_c650 oppo_c550 2684.2999999999997\n"
     ]
    },
    {
     "name": "stderr",
     "output_type": "stream",
     "text": [
      "100%|██████████| 5000/5000 [00:28<00:00, 177.75it/s]\n",
      "100%|██████████| 5000/5000 [00:26<00:00, 190.13it/s]\n"
     ]
    },
    {
     "name": "stdout",
     "output_type": "stream",
     "text": [
      "oppo_c650 oppo_c600 809.65\n"
     ]
    },
    {
     "name": "stderr",
     "output_type": "stream",
     "text": [
      "100%|██████████| 5000/5000 [00:29<00:00, 169.47it/s]\n",
      "100%|██████████| 5000/5000 [00:28<00:00, 177.19it/s]\n"
     ]
    },
    {
     "name": "stdout",
     "output_type": "stream",
     "text": [
      "oppo_c650 oppo_c650 19.05\n"
     ]
    },
    {
     "name": "stderr",
     "output_type": "stream",
     "text": [
      "100%|██████████| 5000/5000 [00:27<00:00, 180.58it/s]\n",
      "100%|██████████| 5000/5000 [00:29<00:00, 166.86it/s]\n"
     ]
    },
    {
     "name": "stdout",
     "output_type": "stream",
     "text": [
      "oppo_c650 oppo_c700 -2111.25\n"
     ]
    },
    {
     "name": "stderr",
     "output_type": "stream",
     "text": [
      "100%|██████████| 5000/5000 [00:28<00:00, 175.62it/s]\n",
      "100%|██████████| 5000/5000 [00:26<00:00, 188.89it/s]\n"
     ]
    },
    {
     "name": "stdout",
     "output_type": "stream",
     "text": [
      "oppo_c650 oppo_c750 565.3000000000001\n"
     ]
    },
    {
     "name": "stderr",
     "output_type": "stream",
     "text": [
      "100%|██████████| 5000/5000 [00:26<00:00, 187.38it/s]\n",
      "100%|██████████| 5000/5000 [00:25<00:00, 198.31it/s]\n"
     ]
    },
    {
     "name": "stdout",
     "output_type": "stream",
     "text": [
      "oppo_c650 oppo_c800 -2244.2000000000003\n"
     ]
    },
    {
     "name": "stderr",
     "output_type": "stream",
     "text": [
      "100%|██████████| 5000/5000 [00:27<00:00, 182.64it/s]\n",
      "100%|██████████| 5000/5000 [00:26<00:00, 189.22it/s]\n"
     ]
    },
    {
     "name": "stdout",
     "output_type": "stream",
     "text": [
      "oppo_c650 oppo_c850 -1420.7\n"
     ]
    },
    {
     "name": "stderr",
     "output_type": "stream",
     "text": [
      "100%|██████████| 5000/5000 [00:27<00:00, 180.53it/s]\n",
      "100%|██████████| 5000/5000 [00:24<00:00, 200.63it/s]\n"
     ]
    },
    {
     "name": "stdout",
     "output_type": "stream",
     "text": [
      "oppo_c650 oppo_c900 -1663.8999999999999\n"
     ]
    },
    {
     "name": "stderr",
     "output_type": "stream",
     "text": [
      "100%|██████████| 5000/5000 [00:11<00:00, 446.31it/s]\n",
      "100%|██████████| 5000/5000 [00:16<00:00, 309.21it/s]\n"
     ]
    },
    {
     "name": "stdout",
     "output_type": "stream",
     "text": [
      "oppo_c700 oppo_c0 1277.05\n"
     ]
    },
    {
     "name": "stderr",
     "output_type": "stream",
     "text": [
      "100%|██████████| 5000/5000 [00:24<00:00, 202.23it/s]\n",
      "100%|██████████| 5000/5000 [00:25<00:00, 199.38it/s]\n"
     ]
    },
    {
     "name": "stdout",
     "output_type": "stream",
     "text": [
      "oppo_c700 oppo_c50 1416.9\n"
     ]
    },
    {
     "name": "stderr",
     "output_type": "stream",
     "text": [
      "100%|██████████| 5000/5000 [00:24<00:00, 200.30it/s]\n",
      "100%|██████████| 5000/5000 [00:19<00:00, 257.47it/s]\n"
     ]
    },
    {
     "name": "stdout",
     "output_type": "stream",
     "text": [
      "oppo_c700 oppo_c100 993.95\n"
     ]
    },
    {
     "name": "stderr",
     "output_type": "stream",
     "text": [
      "100%|██████████| 5000/5000 [00:29<00:00, 171.38it/s]\n",
      "100%|██████████| 5000/5000 [00:23<00:00, 214.14it/s]\n"
     ]
    },
    {
     "name": "stdout",
     "output_type": "stream",
     "text": [
      "oppo_c700 oppo_c150 1328.1499999999999\n"
     ]
    },
    {
     "name": "stderr",
     "output_type": "stream",
     "text": [
      "100%|██████████| 5000/5000 [00:29<00:00, 168.61it/s]\n",
      "100%|██████████| 5000/5000 [00:25<00:00, 198.44it/s]\n"
     ]
    },
    {
     "name": "stdout",
     "output_type": "stream",
     "text": [
      "oppo_c700 oppo_c200 5166.0\n"
     ]
    },
    {
     "name": "stderr",
     "output_type": "stream",
     "text": [
      "100%|██████████| 5000/5000 [00:25<00:00, 192.43it/s]\n",
      "100%|██████████| 5000/5000 [00:27<00:00, 180.01it/s]\n"
     ]
    },
    {
     "name": "stdout",
     "output_type": "stream",
     "text": [
      "oppo_c700 oppo_c250 2843.35\n"
     ]
    },
    {
     "name": "stderr",
     "output_type": "stream",
     "text": [
      "100%|██████████| 5000/5000 [00:31<00:00, 158.74it/s]\n",
      "100%|██████████| 5000/5000 [00:23<00:00, 209.38it/s]\n"
     ]
    },
    {
     "name": "stdout",
     "output_type": "stream",
     "text": [
      "oppo_c700 oppo_c300 2038.55\n"
     ]
    },
    {
     "name": "stderr",
     "output_type": "stream",
     "text": [
      "100%|██████████| 5000/5000 [00:32<00:00, 156.07it/s]\n",
      "100%|██████████| 5000/5000 [00:22<00:00, 223.58it/s]\n"
     ]
    },
    {
     "name": "stdout",
     "output_type": "stream",
     "text": [
      "oppo_c700 oppo_c350 4086.5\n"
     ]
    },
    {
     "name": "stderr",
     "output_type": "stream",
     "text": [
      "100%|██████████| 5000/5000 [00:29<00:00, 166.67it/s]\n",
      "100%|██████████| 5000/5000 [00:27<00:00, 180.19it/s]\n"
     ]
    },
    {
     "name": "stdout",
     "output_type": "stream",
     "text": [
      "oppo_c700 oppo_c400 1368.55\n"
     ]
    },
    {
     "name": "stderr",
     "output_type": "stream",
     "text": [
      "100%|██████████| 5000/5000 [00:26<00:00, 186.13it/s]\n",
      "100%|██████████| 5000/5000 [00:27<00:00, 180.69it/s]\n"
     ]
    },
    {
     "name": "stdout",
     "output_type": "stream",
     "text": [
      "oppo_c700 oppo_c450 3582.05\n"
     ]
    },
    {
     "name": "stderr",
     "output_type": "stream",
     "text": [
      "100%|██████████| 5000/5000 [00:27<00:00, 182.11it/s]\n",
      "100%|██████████| 5000/5000 [00:27<00:00, 179.30it/s]\n"
     ]
    },
    {
     "name": "stdout",
     "output_type": "stream",
     "text": [
      "oppo_c700 oppo_c500 1741.25\n"
     ]
    },
    {
     "name": "stderr",
     "output_type": "stream",
     "text": [
      "100%|██████████| 5000/5000 [00:28<00:00, 175.38it/s]\n",
      "100%|██████████| 5000/5000 [00:26<00:00, 188.71it/s]\n"
     ]
    },
    {
     "name": "stdout",
     "output_type": "stream",
     "text": [
      "oppo_c700 oppo_c550 1799.6499999999999\n"
     ]
    },
    {
     "name": "stderr",
     "output_type": "stream",
     "text": [
      "100%|██████████| 5000/5000 [00:28<00:00, 177.63it/s]\n",
      "100%|██████████| 5000/5000 [00:26<00:00, 186.41it/s]\n"
     ]
    },
    {
     "name": "stdout",
     "output_type": "stream",
     "text": [
      "oppo_c700 oppo_c600 1186.1\n"
     ]
    },
    {
     "name": "stderr",
     "output_type": "stream",
     "text": [
      "100%|██████████| 5000/5000 [00:28<00:00, 173.77it/s]\n",
      "100%|██████████| 5000/5000 [00:28<00:00, 175.75it/s]\n"
     ]
    },
    {
     "name": "stdout",
     "output_type": "stream",
     "text": [
      "oppo_c700 oppo_c650 1385.75\n"
     ]
    },
    {
     "name": "stderr",
     "output_type": "stream",
     "text": [
      "100%|██████████| 5000/5000 [00:29<00:00, 168.15it/s]\n",
      "100%|██████████| 5000/5000 [00:29<00:00, 168.31it/s]\n"
     ]
    },
    {
     "name": "stdout",
     "output_type": "stream",
     "text": [
      "oppo_c700 oppo_c700 202.3\n"
     ]
    },
    {
     "name": "stderr",
     "output_type": "stream",
     "text": [
      "100%|██████████| 5000/5000 [00:27<00:00, 182.49it/s]\n",
      "100%|██████████| 5000/5000 [00:30<00:00, 164.90it/s]\n"
     ]
    },
    {
     "name": "stdout",
     "output_type": "stream",
     "text": [
      "oppo_c700 oppo_c750 -130.0\n"
     ]
    },
    {
     "name": "stderr",
     "output_type": "stream",
     "text": [
      "100%|██████████| 5000/5000 [00:27<00:00, 181.39it/s]\n",
      "100%|██████████| 5000/5000 [00:25<00:00, 193.96it/s]\n"
     ]
    },
    {
     "name": "stdout",
     "output_type": "stream",
     "text": [
      "oppo_c700 oppo_c800 -1332.25\n"
     ]
    },
    {
     "name": "stderr",
     "output_type": "stream",
     "text": [
      "100%|██████████| 5000/5000 [00:29<00:00, 167.52it/s]\n",
      "100%|██████████| 5000/5000 [00:23<00:00, 216.86it/s]\n"
     ]
    },
    {
     "name": "stdout",
     "output_type": "stream",
     "text": [
      "oppo_c700 oppo_c850 -1812.4\n"
     ]
    },
    {
     "name": "stderr",
     "output_type": "stream",
     "text": [
      "100%|██████████| 5000/5000 [00:27<00:00, 179.85it/s]\n",
      "100%|██████████| 5000/5000 [00:23<00:00, 213.43it/s]\n"
     ]
    },
    {
     "name": "stdout",
     "output_type": "stream",
     "text": [
      "oppo_c700 oppo_c900 -1401.3\n"
     ]
    },
    {
     "name": "stderr",
     "output_type": "stream",
     "text": [
      "100%|██████████| 5000/5000 [00:11<00:00, 439.88it/s]\n",
      "100%|██████████| 5000/5000 [00:16<00:00, 308.40it/s]\n"
     ]
    },
    {
     "name": "stdout",
     "output_type": "stream",
     "text": [
      "oppo_c750 oppo_c0 1252.95\n"
     ]
    },
    {
     "name": "stderr",
     "output_type": "stream",
     "text": [
      "100%|██████████| 5000/5000 [00:25<00:00, 197.90it/s]\n",
      "100%|██████████| 5000/5000 [00:27<00:00, 180.18it/s]\n"
     ]
    },
    {
     "name": "stdout",
     "output_type": "stream",
     "text": [
      "oppo_c750 oppo_c50 1194.55\n"
     ]
    },
    {
     "name": "stderr",
     "output_type": "stream",
     "text": [
      "100%|██████████| 5000/5000 [00:22<00:00, 223.06it/s]\n",
      "100%|██████████| 5000/5000 [00:19<00:00, 252.60it/s]\n"
     ]
    },
    {
     "name": "stdout",
     "output_type": "stream",
     "text": [
      "oppo_c750 oppo_c100 1169.5500000000002\n"
     ]
    },
    {
     "name": "stderr",
     "output_type": "stream",
     "text": [
      "100%|██████████| 5000/5000 [00:29<00:00, 169.53it/s]\n",
      "100%|██████████| 5000/5000 [00:21<00:00, 234.42it/s]\n"
     ]
    },
    {
     "name": "stdout",
     "output_type": "stream",
     "text": [
      "oppo_c750 oppo_c150 2080.05\n"
     ]
    },
    {
     "name": "stderr",
     "output_type": "stream",
     "text": [
      "100%|██████████| 5000/5000 [00:29<00:00, 171.50it/s]\n",
      "100%|██████████| 5000/5000 [00:25<00:00, 198.47it/s]\n"
     ]
    },
    {
     "name": "stdout",
     "output_type": "stream",
     "text": [
      "oppo_c750 oppo_c200 5239.4\n"
     ]
    },
    {
     "name": "stderr",
     "output_type": "stream",
     "text": [
      "100%|██████████| 5000/5000 [00:26<00:00, 188.69it/s]\n",
      "100%|██████████| 5000/5000 [00:26<00:00, 187.27it/s]\n"
     ]
    },
    {
     "name": "stdout",
     "output_type": "stream",
     "text": [
      "oppo_c750 oppo_c250 1675.3\n"
     ]
    },
    {
     "name": "stderr",
     "output_type": "stream",
     "text": [
      "100%|██████████| 5000/5000 [00:32<00:00, 153.20it/s]\n",
      "100%|██████████| 5000/5000 [00:24<00:00, 204.04it/s]\n"
     ]
    },
    {
     "name": "stdout",
     "output_type": "stream",
     "text": [
      "oppo_c750 oppo_c300 3679.2\n"
     ]
    },
    {
     "name": "stderr",
     "output_type": "stream",
     "text": [
      "100%|██████████| 5000/5000 [00:32<00:00, 155.05it/s]\n",
      "100%|██████████| 5000/5000 [00:22<00:00, 221.52it/s]\n"
     ]
    },
    {
     "name": "stdout",
     "output_type": "stream",
     "text": [
      "oppo_c750 oppo_c350 2557.95\n"
     ]
    },
    {
     "name": "stderr",
     "output_type": "stream",
     "text": [
      "100%|██████████| 5000/5000 [00:29<00:00, 172.15it/s]\n",
      "100%|██████████| 5000/5000 [00:25<00:00, 192.62it/s]\n"
     ]
    },
    {
     "name": "stdout",
     "output_type": "stream",
     "text": [
      "oppo_c750 oppo_c400 2214.4\n"
     ]
    },
    {
     "name": "stderr",
     "output_type": "stream",
     "text": [
      "100%|██████████| 5000/5000 [00:27<00:00, 181.64it/s]\n",
      "100%|██████████| 5000/5000 [00:26<00:00, 187.27it/s]\n"
     ]
    },
    {
     "name": "stdout",
     "output_type": "stream",
     "text": [
      "oppo_c750 oppo_c450 3303.2\n"
     ]
    },
    {
     "name": "stderr",
     "output_type": "stream",
     "text": [
      "100%|██████████| 5000/5000 [00:29<00:00, 167.76it/s]\n",
      "100%|██████████| 5000/5000 [00:26<00:00, 191.18it/s]\n"
     ]
    },
    {
     "name": "stdout",
     "output_type": "stream",
     "text": [
      "oppo_c750 oppo_c500 2414.9500000000003\n"
     ]
    },
    {
     "name": "stderr",
     "output_type": "stream",
     "text": [
      "100%|██████████| 5000/5000 [00:29<00:00, 167.10it/s]\n",
      "100%|██████████| 5000/5000 [00:25<00:00, 198.36it/s]\n"
     ]
    },
    {
     "name": "stdout",
     "output_type": "stream",
     "text": [
      "oppo_c750 oppo_c550 2693.25\n"
     ]
    },
    {
     "name": "stderr",
     "output_type": "stream",
     "text": [
      "100%|██████████| 5000/5000 [00:26<00:00, 185.72it/s]\n",
      "100%|██████████| 5000/5000 [00:26<00:00, 185.31it/s]\n"
     ]
    },
    {
     "name": "stdout",
     "output_type": "stream",
     "text": [
      "oppo_c750 oppo_c600 736.4000000000001\n"
     ]
    },
    {
     "name": "stderr",
     "output_type": "stream",
     "text": [
      "100%|██████████| 5000/5000 [00:25<00:00, 193.12it/s]\n",
      "100%|██████████| 5000/5000 [00:27<00:00, 179.47it/s]\n"
     ]
    },
    {
     "name": "stdout",
     "output_type": "stream",
     "text": [
      "oppo_c750 oppo_c650 -693.0\n"
     ]
    },
    {
     "name": "stderr",
     "output_type": "stream",
     "text": [
      "100%|██████████| 5000/5000 [00:29<00:00, 167.93it/s]\n",
      "100%|██████████| 5000/5000 [00:27<00:00, 184.87it/s]\n"
     ]
    },
    {
     "name": "stdout",
     "output_type": "stream",
     "text": [
      "oppo_c750 oppo_c700 487.45\n"
     ]
    },
    {
     "name": "stderr",
     "output_type": "stream",
     "text": [
      "100%|██████████| 5000/5000 [00:25<00:00, 193.76it/s]\n",
      "100%|██████████| 5000/5000 [00:25<00:00, 195.58it/s]\n"
     ]
    },
    {
     "name": "stdout",
     "output_type": "stream",
     "text": [
      "oppo_c750 oppo_c750 172.85\n"
     ]
    },
    {
     "name": "stderr",
     "output_type": "stream",
     "text": [
      "100%|██████████| 5000/5000 [00:25<00:00, 192.56it/s]\n",
      "100%|██████████| 5000/5000 [00:24<00:00, 201.36it/s]\n"
     ]
    },
    {
     "name": "stdout",
     "output_type": "stream",
     "text": [
      "oppo_c750 oppo_c800 -622.0\n"
     ]
    },
    {
     "name": "stderr",
     "output_type": "stream",
     "text": [
      "100%|██████████| 5000/5000 [00:27<00:00, 182.97it/s]\n",
      "100%|██████████| 5000/5000 [00:26<00:00, 188.20it/s]\n"
     ]
    },
    {
     "name": "stdout",
     "output_type": "stream",
     "text": [
      "oppo_c750 oppo_c850 -1421.1499999999999\n"
     ]
    },
    {
     "name": "stderr",
     "output_type": "stream",
     "text": [
      "100%|██████████| 5000/5000 [00:28<00:00, 178.19it/s]\n",
      "100%|██████████| 5000/5000 [00:24<00:00, 200.66it/s]\n"
     ]
    },
    {
     "name": "stdout",
     "output_type": "stream",
     "text": [
      "oppo_c750 oppo_c900 -788.3\n"
     ]
    },
    {
     "name": "stderr",
     "output_type": "stream",
     "text": [
      "100%|██████████| 5000/5000 [00:11<00:00, 449.29it/s]\n",
      "100%|██████████| 5000/5000 [00:16<00:00, 295.33it/s]\n"
     ]
    },
    {
     "name": "stdout",
     "output_type": "stream",
     "text": [
      "oppo_c800 oppo_c0 1149.45\n"
     ]
    },
    {
     "name": "stderr",
     "output_type": "stream",
     "text": [
      "100%|██████████| 5000/5000 [00:24<00:00, 203.90it/s]\n",
      "100%|██████████| 5000/5000 [00:26<00:00, 186.99it/s]\n"
     ]
    },
    {
     "name": "stdout",
     "output_type": "stream",
     "text": [
      "oppo_c800 oppo_c50 790.2\n"
     ]
    },
    {
     "name": "stderr",
     "output_type": "stream",
     "text": [
      "100%|██████████| 5000/5000 [00:24<00:00, 202.73it/s]\n",
      "100%|██████████| 5000/5000 [00:20<00:00, 249.53it/s]\n"
     ]
    },
    {
     "name": "stdout",
     "output_type": "stream",
     "text": [
      "oppo_c800 oppo_c100 896.0500000000001\n"
     ]
    },
    {
     "name": "stderr",
     "output_type": "stream",
     "text": [
      "100%|██████████| 5000/5000 [00:27<00:00, 181.30it/s]\n",
      "100%|██████████| 5000/5000 [00:22<00:00, 225.86it/s]\n"
     ]
    },
    {
     "name": "stdout",
     "output_type": "stream",
     "text": [
      "oppo_c800 oppo_c150 904.25\n"
     ]
    },
    {
     "name": "stderr",
     "output_type": "stream",
     "text": [
      "100%|██████████| 5000/5000 [00:28<00:00, 178.38it/s]\n",
      "100%|██████████| 5000/5000 [00:25<00:00, 196.36it/s]\n"
     ]
    },
    {
     "name": "stdout",
     "output_type": "stream",
     "text": [
      "oppo_c800 oppo_c200 171.9\n"
     ]
    },
    {
     "name": "stderr",
     "output_type": "stream",
     "text": [
      "100%|██████████| 5000/5000 [00:26<00:00, 188.41it/s]\n",
      "100%|██████████| 5000/5000 [00:27<00:00, 183.30it/s]\n"
     ]
    },
    {
     "name": "stdout",
     "output_type": "stream",
     "text": [
      "oppo_c800 oppo_c250 822.6999999999999\n"
     ]
    },
    {
     "name": "stderr",
     "output_type": "stream",
     "text": [
      "100%|██████████| 5000/5000 [00:28<00:00, 174.06it/s]\n",
      "100%|██████████| 5000/5000 [00:25<00:00, 193.10it/s]\n"
     ]
    },
    {
     "name": "stdout",
     "output_type": "stream",
     "text": [
      "oppo_c800 oppo_c300 733.85\n"
     ]
    },
    {
     "name": "stderr",
     "output_type": "stream",
     "text": [
      "100%|██████████| 5000/5000 [00:29<00:00, 171.58it/s]\n",
      "100%|██████████| 5000/5000 [00:23<00:00, 215.57it/s]\n"
     ]
    },
    {
     "name": "stdout",
     "output_type": "stream",
     "text": [
      "oppo_c800 oppo_c350 1089.0\n"
     ]
    },
    {
     "name": "stderr",
     "output_type": "stream",
     "text": [
      "100%|██████████| 5000/5000 [00:28<00:00, 177.01it/s]\n",
      "100%|██████████| 5000/5000 [00:26<00:00, 185.56it/s]\n"
     ]
    },
    {
     "name": "stdout",
     "output_type": "stream",
     "text": [
      "oppo_c800 oppo_c400 893.4499999999999\n"
     ]
    },
    {
     "name": "stderr",
     "output_type": "stream",
     "text": [
      "100%|██████████| 5000/5000 [00:28<00:00, 176.65it/s]\n",
      "100%|██████████| 5000/5000 [00:27<00:00, 181.33it/s]\n"
     ]
    },
    {
     "name": "stdout",
     "output_type": "stream",
     "text": [
      "oppo_c800 oppo_c450 1616.75\n"
     ]
    },
    {
     "name": "stderr",
     "output_type": "stream",
     "text": [
      "100%|██████████| 5000/5000 [00:27<00:00, 179.84it/s]\n",
      "100%|██████████| 5000/5000 [00:27<00:00, 179.65it/s]\n"
     ]
    },
    {
     "name": "stdout",
     "output_type": "stream",
     "text": [
      "oppo_c800 oppo_c500 1681.4\n"
     ]
    },
    {
     "name": "stderr",
     "output_type": "stream",
     "text": [
      "100%|██████████| 5000/5000 [00:29<00:00, 170.05it/s]\n",
      "100%|██████████| 5000/5000 [00:26<00:00, 185.71it/s]\n"
     ]
    },
    {
     "name": "stdout",
     "output_type": "stream",
     "text": [
      "oppo_c800 oppo_c550 1038.8\n"
     ]
    },
    {
     "name": "stderr",
     "output_type": "stream",
     "text": [
      "100%|██████████| 5000/5000 [00:27<00:00, 180.82it/s]\n",
      "100%|██████████| 5000/5000 [00:25<00:00, 197.60it/s]\n"
     ]
    },
    {
     "name": "stdout",
     "output_type": "stream",
     "text": [
      "oppo_c800 oppo_c600 1421.5\n"
     ]
    },
    {
     "name": "stderr",
     "output_type": "stream",
     "text": [
      "100%|██████████| 5000/5000 [00:26<00:00, 189.30it/s]\n",
      "100%|██████████| 5000/5000 [00:26<00:00, 189.61it/s]\n"
     ]
    },
    {
     "name": "stdout",
     "output_type": "stream",
     "text": [
      "oppo_c800 oppo_c650 2458.8999999999996\n"
     ]
    },
    {
     "name": "stderr",
     "output_type": "stream",
     "text": [
      "100%|██████████| 5000/5000 [00:26<00:00, 190.94it/s]\n",
      "100%|██████████| 5000/5000 [00:27<00:00, 179.12it/s]\n"
     ]
    },
    {
     "name": "stdout",
     "output_type": "stream",
     "text": [
      "oppo_c800 oppo_c700 1763.15\n"
     ]
    },
    {
     "name": "stderr",
     "output_type": "stream",
     "text": [
      "100%|██████████| 5000/5000 [00:25<00:00, 196.22it/s]\n",
      "100%|██████████| 5000/5000 [00:26<00:00, 185.84it/s]\n"
     ]
    },
    {
     "name": "stdout",
     "output_type": "stream",
     "text": [
      "oppo_c800 oppo_c750 761.8000000000001\n"
     ]
    },
    {
     "name": "stderr",
     "output_type": "stream",
     "text": [
      "100%|██████████| 5000/5000 [00:26<00:00, 187.71it/s]\n",
      "100%|██████████| 5000/5000 [00:26<00:00, 187.00it/s]\n"
     ]
    },
    {
     "name": "stdout",
     "output_type": "stream",
     "text": [
      "oppo_c800 oppo_c800 81.85000000000001\n"
     ]
    },
    {
     "name": "stderr",
     "output_type": "stream",
     "text": [
      "100%|██████████| 5000/5000 [00:27<00:00, 184.35it/s]\n",
      "100%|██████████| 5000/5000 [00:27<00:00, 179.20it/s]\n"
     ]
    },
    {
     "name": "stdout",
     "output_type": "stream",
     "text": [
      "oppo_c800 oppo_c850 -642.3\n"
     ]
    },
    {
     "name": "stderr",
     "output_type": "stream",
     "text": [
      "100%|██████████| 5000/5000 [00:26<00:00, 185.75it/s]\n",
      "100%|██████████| 5000/5000 [00:26<00:00, 185.43it/s]\n"
     ]
    },
    {
     "name": "stdout",
     "output_type": "stream",
     "text": [
      "oppo_c800 oppo_c900 -586.2\n"
     ]
    },
    {
     "name": "stderr",
     "output_type": "stream",
     "text": [
      "100%|██████████| 5000/5000 [00:11<00:00, 447.20it/s]\n",
      "100%|██████████| 5000/5000 [00:16<00:00, 298.83it/s]\n"
     ]
    },
    {
     "name": "stdout",
     "output_type": "stream",
     "text": [
      "oppo_c850 oppo_c0 1456.6\n"
     ]
    },
    {
     "name": "stderr",
     "output_type": "stream",
     "text": [
      "100%|██████████| 5000/5000 [00:24<00:00, 200.82it/s]\n",
      "100%|██████████| 5000/5000 [00:25<00:00, 194.13it/s]\n"
     ]
    },
    {
     "name": "stdout",
     "output_type": "stream",
     "text": [
      "oppo_c850 oppo_c50 1227.35\n"
     ]
    },
    {
     "name": "stderr",
     "output_type": "stream",
     "text": [
      "100%|██████████| 5000/5000 [00:23<00:00, 211.49it/s]\n",
      "100%|██████████| 5000/5000 [00:20<00:00, 240.26it/s]\n"
     ]
    },
    {
     "name": "stdout",
     "output_type": "stream",
     "text": [
      "oppo_c850 oppo_c100 1193.1499999999999\n"
     ]
    },
    {
     "name": "stderr",
     "output_type": "stream",
     "text": [
      "100%|██████████| 5000/5000 [00:27<00:00, 180.67it/s]\n",
      "100%|██████████| 5000/5000 [00:24<00:00, 207.37it/s]\n"
     ]
    },
    {
     "name": "stdout",
     "output_type": "stream",
     "text": [
      "oppo_c850 oppo_c150 1708.45\n"
     ]
    },
    {
     "name": "stderr",
     "output_type": "stream",
     "text": [
      "100%|██████████| 5000/5000 [00:26<00:00, 185.63it/s]\n",
      "100%|██████████| 5000/5000 [00:24<00:00, 207.07it/s]\n"
     ]
    },
    {
     "name": "stdout",
     "output_type": "stream",
     "text": [
      "oppo_c850 oppo_c200 1947.4499999999998\n"
     ]
    },
    {
     "name": "stderr",
     "output_type": "stream",
     "text": [
      "100%|██████████| 5000/5000 [00:27<00:00, 180.59it/s]\n",
      "100%|██████████| 5000/5000 [00:26<00:00, 190.76it/s]\n"
     ]
    },
    {
     "name": "stdout",
     "output_type": "stream",
     "text": [
      "oppo_c850 oppo_c250 1358.5\n"
     ]
    },
    {
     "name": "stderr",
     "output_type": "stream",
     "text": [
      "100%|██████████| 5000/5000 [00:29<00:00, 170.29it/s]\n",
      "100%|██████████| 5000/5000 [00:25<00:00, 197.31it/s]\n"
     ]
    },
    {
     "name": "stdout",
     "output_type": "stream",
     "text": [
      "oppo_c850 oppo_c300 1533.85\n"
     ]
    },
    {
     "name": "stderr",
     "output_type": "stream",
     "text": [
      "100%|██████████| 5000/5000 [00:29<00:00, 170.40it/s]\n",
      "100%|██████████| 5000/5000 [00:24<00:00, 200.25it/s]\n"
     ]
    },
    {
     "name": "stdout",
     "output_type": "stream",
     "text": [
      "oppo_c850 oppo_c350 2060.35\n"
     ]
    },
    {
     "name": "stderr",
     "output_type": "stream",
     "text": [
      "100%|██████████| 5000/5000 [00:26<00:00, 186.09it/s]\n",
      "100%|██████████| 5000/5000 [00:27<00:00, 185.08it/s]\n"
     ]
    },
    {
     "name": "stdout",
     "output_type": "stream",
     "text": [
      "oppo_c850 oppo_c400 1022.4\n"
     ]
    },
    {
     "name": "stderr",
     "output_type": "stream",
     "text": [
      "100%|██████████| 5000/5000 [00:27<00:00, 182.61it/s]\n",
      "100%|██████████| 5000/5000 [00:28<00:00, 178.00it/s]\n"
     ]
    },
    {
     "name": "stdout",
     "output_type": "stream",
     "text": [
      "oppo_c850 oppo_c450 1550.35\n"
     ]
    },
    {
     "name": "stderr",
     "output_type": "stream",
     "text": [
      "100%|██████████| 5000/5000 [00:24<00:00, 205.58it/s]\n",
      "100%|██████████| 5000/5000 [00:27<00:00, 183.41it/s]\n"
     ]
    },
    {
     "name": "stdout",
     "output_type": "stream",
     "text": [
      "oppo_c850 oppo_c500 1409.0\n"
     ]
    },
    {
     "name": "stderr",
     "output_type": "stream",
     "text": [
      "100%|██████████| 5000/5000 [00:27<00:00, 184.95it/s]\n",
      "100%|██████████| 5000/5000 [00:27<00:00, 183.38it/s]\n"
     ]
    },
    {
     "name": "stdout",
     "output_type": "stream",
     "text": [
      "oppo_c850 oppo_c550 562.8\n"
     ]
    },
    {
     "name": "stderr",
     "output_type": "stream",
     "text": [
      "100%|██████████| 5000/5000 [00:26<00:00, 187.50it/s]\n",
      "100%|██████████| 5000/5000 [00:26<00:00, 189.09it/s]\n"
     ]
    },
    {
     "name": "stdout",
     "output_type": "stream",
     "text": [
      "oppo_c850 oppo_c600 753.15\n"
     ]
    },
    {
     "name": "stderr",
     "output_type": "stream",
     "text": [
      "100%|██████████| 5000/5000 [00:25<00:00, 199.99it/s]\n",
      "100%|██████████| 5000/5000 [00:26<00:00, 188.01it/s]\n"
     ]
    },
    {
     "name": "stdout",
     "output_type": "stream",
     "text": [
      "oppo_c850 oppo_c650 1179.1499999999999\n"
     ]
    },
    {
     "name": "stderr",
     "output_type": "stream",
     "text": [
      "100%|██████████| 5000/5000 [00:23<00:00, 217.28it/s]\n",
      "100%|██████████| 5000/5000 [00:29<00:00, 171.97it/s]\n"
     ]
    },
    {
     "name": "stdout",
     "output_type": "stream",
     "text": [
      "oppo_c850 oppo_c700 1928.75\n"
     ]
    },
    {
     "name": "stderr",
     "output_type": "stream",
     "text": [
      "100%|██████████| 5000/5000 [00:26<00:00, 191.89it/s]\n",
      "100%|██████████| 5000/5000 [00:26<00:00, 185.51it/s]\n"
     ]
    },
    {
     "name": "stdout",
     "output_type": "stream",
     "text": [
      "oppo_c850 oppo_c750 1394.5\n"
     ]
    },
    {
     "name": "stderr",
     "output_type": "stream",
     "text": [
      "100%|██████████| 5000/5000 [00:27<00:00, 182.65it/s]\n",
      "100%|██████████| 5000/5000 [00:27<00:00, 183.14it/s]\n"
     ]
    },
    {
     "name": "stdout",
     "output_type": "stream",
     "text": [
      "oppo_c850 oppo_c800 871.05\n"
     ]
    },
    {
     "name": "stderr",
     "output_type": "stream",
     "text": [
      "100%|██████████| 5000/5000 [00:26<00:00, 188.98it/s]\n",
      "100%|██████████| 5000/5000 [00:26<00:00, 187.30it/s]\n"
     ]
    },
    {
     "name": "stdout",
     "output_type": "stream",
     "text": [
      "oppo_c850 oppo_c850 -23.2\n"
     ]
    },
    {
     "name": "stderr",
     "output_type": "stream",
     "text": [
      "100%|██████████| 5000/5000 [00:25<00:00, 194.24it/s]\n",
      "100%|██████████| 5000/5000 [00:26<00:00, 191.10it/s]\n"
     ]
    },
    {
     "name": "stdout",
     "output_type": "stream",
     "text": [
      "oppo_c850 oppo_c900 -176.25\n"
     ]
    },
    {
     "name": "stderr",
     "output_type": "stream",
     "text": [
      "100%|██████████| 5000/5000 [00:10<00:00, 458.69it/s]\n",
      "100%|██████████| 5000/5000 [00:15<00:00, 321.78it/s]\n"
     ]
    },
    {
     "name": "stdout",
     "output_type": "stream",
     "text": [
      "oppo_c900 oppo_c0 1448.5\n"
     ]
    },
    {
     "name": "stderr",
     "output_type": "stream",
     "text": [
      "100%|██████████| 5000/5000 [00:24<00:00, 205.09it/s]\n",
      "100%|██████████| 5000/5000 [00:25<00:00, 196.42it/s]\n"
     ]
    },
    {
     "name": "stdout",
     "output_type": "stream",
     "text": [
      "oppo_c900 oppo_c50 1456.3999999999999\n"
     ]
    },
    {
     "name": "stderr",
     "output_type": "stream",
     "text": [
      "100%|██████████| 5000/5000 [00:23<00:00, 211.50it/s]\n",
      "100%|██████████| 5000/5000 [00:20<00:00, 248.04it/s]\n"
     ]
    },
    {
     "name": "stdout",
     "output_type": "stream",
     "text": [
      "oppo_c900 oppo_c100 1202.65\n"
     ]
    },
    {
     "name": "stderr",
     "output_type": "stream",
     "text": [
      "100%|██████████| 5000/5000 [00:27<00:00, 179.45it/s]\n",
      "100%|██████████| 5000/5000 [00:23<00:00, 210.47it/s]\n"
     ]
    },
    {
     "name": "stdout",
     "output_type": "stream",
     "text": [
      "oppo_c900 oppo_c150 1037.1\n"
     ]
    },
    {
     "name": "stderr",
     "output_type": "stream",
     "text": [
      "100%|██████████| 5000/5000 [00:27<00:00, 183.68it/s]\n",
      "100%|██████████| 5000/5000 [00:23<00:00, 214.18it/s]\n"
     ]
    },
    {
     "name": "stdout",
     "output_type": "stream",
     "text": [
      "oppo_c900 oppo_c200 2166.4500000000003\n"
     ]
    },
    {
     "name": "stderr",
     "output_type": "stream",
     "text": [
      "100%|██████████| 5000/5000 [00:27<00:00, 185.04it/s]\n",
      "100%|██████████| 5000/5000 [00:25<00:00, 199.78it/s]\n"
     ]
    },
    {
     "name": "stdout",
     "output_type": "stream",
     "text": [
      "oppo_c900 oppo_c250 1264.45\n"
     ]
    },
    {
     "name": "stderr",
     "output_type": "stream",
     "text": [
      "100%|██████████| 5000/5000 [00:30<00:00, 163.62it/s]\n",
      "100%|██████████| 5000/5000 [00:25<00:00, 194.84it/s]\n"
     ]
    },
    {
     "name": "stdout",
     "output_type": "stream",
     "text": [
      "oppo_c900 oppo_c300 1731.1000000000001\n"
     ]
    },
    {
     "name": "stderr",
     "output_type": "stream",
     "text": [
      "100%|██████████| 5000/5000 [00:29<00:00, 170.10it/s]\n",
      "100%|██████████| 5000/5000 [00:24<00:00, 202.19it/s]\n"
     ]
    },
    {
     "name": "stdout",
     "output_type": "stream",
     "text": [
      "oppo_c900 oppo_c350 1982.15\n"
     ]
    },
    {
     "name": "stderr",
     "output_type": "stream",
     "text": [
      "100%|██████████| 5000/5000 [00:27<00:00, 183.58it/s]\n",
      "100%|██████████| 5000/5000 [00:28<00:00, 178.19it/s]\n"
     ]
    },
    {
     "name": "stdout",
     "output_type": "stream",
     "text": [
      "oppo_c900 oppo_c400 1155.6\n"
     ]
    },
    {
     "name": "stderr",
     "output_type": "stream",
     "text": [
      "100%|██████████| 5000/5000 [00:27<00:00, 181.40it/s]\n",
      "100%|██████████| 5000/5000 [00:28<00:00, 178.00it/s]\n"
     ]
    },
    {
     "name": "stdout",
     "output_type": "stream",
     "text": [
      "oppo_c900 oppo_c450 1574.1000000000001\n"
     ]
    },
    {
     "name": "stderr",
     "output_type": "stream",
     "text": [
      "100%|██████████| 5000/5000 [00:24<00:00, 202.10it/s]\n",
      "100%|██████████| 5000/5000 [00:27<00:00, 183.10it/s]\n"
     ]
    },
    {
     "name": "stdout",
     "output_type": "stream",
     "text": [
      "oppo_c900 oppo_c500 1196.95\n"
     ]
    },
    {
     "name": "stderr",
     "output_type": "stream",
     "text": [
      "100%|██████████| 5000/5000 [00:27<00:00, 184.65it/s]\n",
      "100%|██████████| 5000/5000 [00:27<00:00, 180.18it/s]\n"
     ]
    },
    {
     "name": "stdout",
     "output_type": "stream",
     "text": [
      "oppo_c900 oppo_c550 1160.35\n"
     ]
    },
    {
     "name": "stderr",
     "output_type": "stream",
     "text": [
      "100%|██████████| 5000/5000 [00:27<00:00, 180.47it/s]\n",
      "100%|██████████| 5000/5000 [00:26<00:00, 192.27it/s]\n"
     ]
    },
    {
     "name": "stdout",
     "output_type": "stream",
     "text": [
      "oppo_c900 oppo_c600 973.6\n"
     ]
    },
    {
     "name": "stderr",
     "output_type": "stream",
     "text": [
      "100%|██████████| 5000/5000 [00:25<00:00, 196.34it/s]\n",
      "100%|██████████| 5000/5000 [00:26<00:00, 188.54it/s]\n"
     ]
    },
    {
     "name": "stdout",
     "output_type": "stream",
     "text": [
      "oppo_c900 oppo_c650 1903.5500000000002\n"
     ]
    },
    {
     "name": "stderr",
     "output_type": "stream",
     "text": [
      "100%|██████████| 5000/5000 [00:23<00:00, 217.23it/s]\n",
      "100%|██████████| 5000/5000 [00:28<00:00, 178.37it/s]\n"
     ]
    },
    {
     "name": "stdout",
     "output_type": "stream",
     "text": [
      "oppo_c900 oppo_c700 1528.8500000000001\n"
     ]
    },
    {
     "name": "stderr",
     "output_type": "stream",
     "text": [
      "100%|██████████| 5000/5000 [00:24<00:00, 204.58it/s]\n",
      "100%|██████████| 5000/5000 [00:27<00:00, 184.57it/s]\n"
     ]
    },
    {
     "name": "stdout",
     "output_type": "stream",
     "text": [
      "oppo_c900 oppo_c750 947.35\n"
     ]
    },
    {
     "name": "stderr",
     "output_type": "stream",
     "text": [
      "100%|██████████| 5000/5000 [00:26<00:00, 187.23it/s]\n",
      "100%|██████████| 5000/5000 [00:27<00:00, 184.21it/s]\n"
     ]
    },
    {
     "name": "stdout",
     "output_type": "stream",
     "text": [
      "oppo_c900 oppo_c800 533.5999999999999\n"
     ]
    },
    {
     "name": "stderr",
     "output_type": "stream",
     "text": [
      "100%|██████████| 5000/5000 [00:27<00:00, 184.49it/s]\n",
      "100%|██████████| 5000/5000 [00:28<00:00, 176.49it/s]\n"
     ]
    },
    {
     "name": "stdout",
     "output_type": "stream",
     "text": [
      "oppo_c900 oppo_c850 445.29999999999995\n"
     ]
    },
    {
     "name": "stderr",
     "output_type": "stream",
     "text": [
      "100%|██████████| 5000/5000 [00:27<00:00, 183.59it/s]\n",
      "100%|██████████| 5000/5000 [00:27<00:00, 179.82it/s]"
     ]
    },
    {
     "name": "stdout",
     "output_type": "stream",
     "text": [
      "oppo_c900 oppo_c900 -67.2\n"
     ]
    },
    {
     "name": "stderr",
     "output_type": "stream",
     "text": [
      "\n"
     ]
    }
   ],
   "source": [
    "for i in range(len(agts)):\n",
    "    for j in range(len(agts)):\n",
    "        nn_agent_1 = agts[i]\n",
    "        nn_agent_2 = agts[j]\n",
    "        rewards = death_match(nn_agent_1,nn_agent_2,env)\n",
    "        avg_mbbh = np.average(rewards) / 2.0 * 1000.0\n",
    "        print(nn_agent_1.name,nn_agent_2.name,avg_mbbh)\n",
    "        winrate_matrix[i][j] = avg_mbbh"
   ]
  },
  {
   "cell_type": "code",
   "execution_count": 7,
   "id": "0368dfe3",
   "metadata": {},
   "outputs": [],
   "source": [
    "df = pd.DataFrame(winrate_matrix,\n",
    "             columns=[i.name for i in agts],\n",
    "             index=[i.name for i in agts]\n",
    "            )"
   ]
  },
  {
   "cell_type": "code",
   "execution_count": 8,
   "id": "7238a3fd",
   "metadata": {},
   "outputs": [],
   "source": [
    "df[\"avg_rwd\"] = df.T.mean() - min(df.T.mean())"
   ]
  },
  {
   "cell_type": "code",
   "execution_count": 9,
   "id": "defa521b",
   "metadata": {},
   "outputs": [
    {
     "data": {
      "text/html": [
       "<div>\n",
       "<style scoped>\n",
       "    .dataframe tbody tr th:only-of-type {\n",
       "        vertical-align: middle;\n",
       "    }\n",
       "\n",
       "    .dataframe tbody tr th {\n",
       "        vertical-align: top;\n",
       "    }\n",
       "\n",
       "    .dataframe thead th {\n",
       "        text-align: right;\n",
       "    }\n",
       "</style>\n",
       "<table border=\"1\" class=\"dataframe\">\n",
       "  <thead>\n",
       "    <tr style=\"text-align: right;\">\n",
       "      <th></th>\n",
       "      <th>oppo_c0</th>\n",
       "      <th>oppo_c50</th>\n",
       "      <th>oppo_c100</th>\n",
       "      <th>oppo_c150</th>\n",
       "      <th>oppo_c200</th>\n",
       "      <th>oppo_c250</th>\n",
       "      <th>oppo_c300</th>\n",
       "      <th>oppo_c350</th>\n",
       "      <th>oppo_c400</th>\n",
       "      <th>oppo_c450</th>\n",
       "      <th>oppo_c500</th>\n",
       "      <th>oppo_c550</th>\n",
       "      <th>oppo_c600</th>\n",
       "      <th>oppo_c650</th>\n",
       "      <th>oppo_c700</th>\n",
       "      <th>oppo_c750</th>\n",
       "      <th>oppo_c800</th>\n",
       "      <th>oppo_c850</th>\n",
       "      <th>oppo_c900</th>\n",
       "      <th>avg_rwd</th>\n",
       "    </tr>\n",
       "  </thead>\n",
       "  <tbody>\n",
       "    <tr>\n",
       "      <th>oppo_c0</th>\n",
       "      <td>-49.30</td>\n",
       "      <td>-1702.40</td>\n",
       "      <td>-969.95</td>\n",
       "      <td>-1168.80</td>\n",
       "      <td>-1975.05</td>\n",
       "      <td>-1115.10</td>\n",
       "      <td>-1688.55</td>\n",
       "      <td>-1725.65</td>\n",
       "      <td>-1673.15</td>\n",
       "      <td>-1473.50</td>\n",
       "      <td>-1562.40</td>\n",
       "      <td>-1031.10</td>\n",
       "      <td>-1970.85</td>\n",
       "      <td>-1528.15</td>\n",
       "      <td>-1060.10</td>\n",
       "      <td>-1153.55</td>\n",
       "      <td>-1324.50</td>\n",
       "      <td>-1829.40</td>\n",
       "      <td>-1321.45</td>\n",
       "      <td>140.013158</td>\n",
       "    </tr>\n",
       "    <tr>\n",
       "      <th>oppo_c50</th>\n",
       "      <td>1819.00</td>\n",
       "      <td>160.30</td>\n",
       "      <td>-1835.00</td>\n",
       "      <td>-2179.40</td>\n",
       "      <td>-2727.15</td>\n",
       "      <td>-2601.00</td>\n",
       "      <td>-1774.10</td>\n",
       "      <td>-2400.45</td>\n",
       "      <td>-1652.00</td>\n",
       "      <td>-2632.60</td>\n",
       "      <td>-1312.05</td>\n",
       "      <td>-927.00</td>\n",
       "      <td>-1737.00</td>\n",
       "      <td>-2201.10</td>\n",
       "      <td>-1447.80</td>\n",
       "      <td>-1276.55</td>\n",
       "      <td>-694.95</td>\n",
       "      <td>-1023.95</td>\n",
       "      <td>-1226.70</td>\n",
       "      <td>69.142105</td>\n",
       "    </tr>\n",
       "    <tr>\n",
       "      <th>oppo_c100</th>\n",
       "      <td>1033.45</td>\n",
       "      <td>1732.20</td>\n",
       "      <td>57.85</td>\n",
       "      <td>-646.00</td>\n",
       "      <td>-818.25</td>\n",
       "      <td>-1338.10</td>\n",
       "      <td>-1419.35</td>\n",
       "      <td>-1767.50</td>\n",
       "      <td>-533.20</td>\n",
       "      <td>-2927.70</td>\n",
       "      <td>-1334.20</td>\n",
       "      <td>-1195.80</td>\n",
       "      <td>-1293.95</td>\n",
       "      <td>-1761.80</td>\n",
       "      <td>-981.55</td>\n",
       "      <td>-1351.10</td>\n",
       "      <td>-1194.95</td>\n",
       "      <td>-1028.30</td>\n",
       "      <td>-1060.30</td>\n",
       "      <td>587.086842</td>\n",
       "    </tr>\n",
       "    <tr>\n",
       "      <th>oppo_c150</th>\n",
       "      <td>884.85</td>\n",
       "      <td>2329.75</td>\n",
       "      <td>688.50</td>\n",
       "      <td>-39.55</td>\n",
       "      <td>-4055.80</td>\n",
       "      <td>-3714.30</td>\n",
       "      <td>545.35</td>\n",
       "      <td>-3106.20</td>\n",
       "      <td>-2152.55</td>\n",
       "      <td>-1435.20</td>\n",
       "      <td>-2121.35</td>\n",
       "      <td>-1234.10</td>\n",
       "      <td>-2487.30</td>\n",
       "      <td>-3787.40</td>\n",
       "      <td>-1238.40</td>\n",
       "      <td>-2061.80</td>\n",
       "      <td>-973.15</td>\n",
       "      <td>-1509.25</td>\n",
       "      <td>-1188.25</td>\n",
       "      <td>122.476316</td>\n",
       "    </tr>\n",
       "    <tr>\n",
       "      <th>oppo_c200</th>\n",
       "      <td>1683.00</td>\n",
       "      <td>2714.00</td>\n",
       "      <td>878.95</td>\n",
       "      <td>4076.35</td>\n",
       "      <td>-50.95</td>\n",
       "      <td>-1770.15</td>\n",
       "      <td>-2589.85</td>\n",
       "      <td>-1413.05</td>\n",
       "      <td>833.70</td>\n",
       "      <td>-3356.75</td>\n",
       "      <td>-3497.30</td>\n",
       "      <td>-1473.25</td>\n",
       "      <td>-4090.90</td>\n",
       "      <td>-6105.90</td>\n",
       "      <td>-5354.80</td>\n",
       "      <td>-5109.20</td>\n",
       "      <td>-254.15</td>\n",
       "      <td>-1774.90</td>\n",
       "      <td>-2328.05</td>\n",
       "      <td>0.000000</td>\n",
       "    </tr>\n",
       "    <tr>\n",
       "      <th>oppo_c250</th>\n",
       "      <td>1507.25</td>\n",
       "      <td>2612.25</td>\n",
       "      <td>1464.80</td>\n",
       "      <td>3663.95</td>\n",
       "      <td>1757.45</td>\n",
       "      <td>-296.80</td>\n",
       "      <td>-1160.90</td>\n",
       "      <td>-3552.45</td>\n",
       "      <td>-2594.60</td>\n",
       "      <td>-2455.85</td>\n",
       "      <td>-1106.65</td>\n",
       "      <td>-2432.90</td>\n",
       "      <td>-2111.35</td>\n",
       "      <td>-3366.25</td>\n",
       "      <td>-2679.80</td>\n",
       "      <td>-1556.95</td>\n",
       "      <td>-1126.50</td>\n",
       "      <td>-1087.60</td>\n",
       "      <td>-1038.75</td>\n",
       "      <td>706.397368</td>\n",
       "    </tr>\n",
       "    <tr>\n",
       "      <th>oppo_c300</th>\n",
       "      <td>1322.80</td>\n",
       "      <td>1975.65</td>\n",
       "      <td>1340.40</td>\n",
       "      <td>-602.80</td>\n",
       "      <td>2926.65</td>\n",
       "      <td>1057.70</td>\n",
       "      <td>14.65</td>\n",
       "      <td>-890.65</td>\n",
       "      <td>-1752.10</td>\n",
       "      <td>-5274.50</td>\n",
       "      <td>-1380.45</td>\n",
       "      <td>-1932.90</td>\n",
       "      <td>-1331.50</td>\n",
       "      <td>-3110.80</td>\n",
       "      <td>-2383.95</td>\n",
       "      <td>-3504.95</td>\n",
       "      <td>-813.20</td>\n",
       "      <td>-1601.20</td>\n",
       "      <td>-1948.90</td>\n",
       "      <td>583.850000</td>\n",
       "    </tr>\n",
       "    <tr>\n",
       "      <th>oppo_c350</th>\n",
       "      <td>1422.30</td>\n",
       "      <td>2462.10</td>\n",
       "      <td>2045.20</td>\n",
       "      <td>2982.45</td>\n",
       "      <td>1939.05</td>\n",
       "      <td>4035.40</td>\n",
       "      <td>498.20</td>\n",
       "      <td>-190.85</td>\n",
       "      <td>-2940.80</td>\n",
       "      <td>-808.20</td>\n",
       "      <td>-3869.75</td>\n",
       "      <td>-2237.10</td>\n",
       "      <td>-1491.55</td>\n",
       "      <td>-3086.05</td>\n",
       "      <td>-3747.10</td>\n",
       "      <td>-2516.50</td>\n",
       "      <td>-1023.35</td>\n",
       "      <td>-1724.35</td>\n",
       "      <td>-1743.85</td>\n",
       "      <td>999.392105</td>\n",
       "    </tr>\n",
       "    <tr>\n",
       "      <th>oppo_c400</th>\n",
       "      <td>1510.60</td>\n",
       "      <td>1629.85</td>\n",
       "      <td>545.00</td>\n",
       "      <td>2363.90</td>\n",
       "      <td>-818.20</td>\n",
       "      <td>2689.00</td>\n",
       "      <td>1387.05</td>\n",
       "      <td>2815.40</td>\n",
       "      <td>-277.15</td>\n",
       "      <td>-2020.45</td>\n",
       "      <td>-508.25</td>\n",
       "      <td>-652.25</td>\n",
       "      <td>-2886.10</td>\n",
       "      <td>-1965.45</td>\n",
       "      <td>-1452.35</td>\n",
       "      <td>-2225.30</td>\n",
       "      <td>-668.60</td>\n",
       "      <td>-1139.10</td>\n",
       "      <td>-851.90</td>\n",
       "      <td>1392.573684</td>\n",
       "    </tr>\n",
       "    <tr>\n",
       "      <th>oppo_c450</th>\n",
       "      <td>1470.55</td>\n",
       "      <td>2574.95</td>\n",
       "      <td>2928.25</td>\n",
       "      <td>1448.95</td>\n",
       "      <td>3523.10</td>\n",
       "      <td>2323.30</td>\n",
       "      <td>4870.80</td>\n",
       "      <td>491.40</td>\n",
       "      <td>2070.30</td>\n",
       "      <td>25.45</td>\n",
       "      <td>-847.20</td>\n",
       "      <td>-415.70</td>\n",
       "      <td>-4815.20</td>\n",
       "      <td>-4337.00</td>\n",
       "      <td>-3313.30</td>\n",
       "      <td>-3656.60</td>\n",
       "      <td>-1356.80</td>\n",
       "      <td>-1676.85</td>\n",
       "      <td>-1942.05</td>\n",
       "      <td>1492.081579</td>\n",
       "    </tr>\n",
       "    <tr>\n",
       "      <th>oppo_c500</th>\n",
       "      <td>1353.25</td>\n",
       "      <td>1613.95</td>\n",
       "      <td>1496.95</td>\n",
       "      <td>2548.55</td>\n",
       "      <td>4056.65</td>\n",
       "      <td>1203.45</td>\n",
       "      <td>1666.30</td>\n",
       "      <td>3118.20</td>\n",
       "      <td>863.85</td>\n",
       "      <td>1856.45</td>\n",
       "      <td>-206.30</td>\n",
       "      <td>-1879.50</td>\n",
       "      <td>-1529.10</td>\n",
       "      <td>-2339.45</td>\n",
       "      <td>-1727.40</td>\n",
       "      <td>-2485.90</td>\n",
       "      <td>-1389.30</td>\n",
       "      <td>-1260.00</td>\n",
       "      <td>-1360.55</td>\n",
       "      <td>1820.173684</td>\n",
       "    </tr>\n",
       "    <tr>\n",
       "      <th>oppo_c550</th>\n",
       "      <td>921.70</td>\n",
       "      <td>944.70</td>\n",
       "      <td>1062.60</td>\n",
       "      <td>998.95</td>\n",
       "      <td>1663.80</td>\n",
       "      <td>2457.40</td>\n",
       "      <td>1869.75</td>\n",
       "      <td>2015.90</td>\n",
       "      <td>737.65</td>\n",
       "      <td>530.65</td>\n",
       "      <td>1875.90</td>\n",
       "      <td>86.65</td>\n",
       "      <td>-1341.75</td>\n",
       "      <td>-2592.65</td>\n",
       "      <td>-1671.70</td>\n",
       "      <td>-2670.85</td>\n",
       "      <td>-1005.50</td>\n",
       "      <td>-403.75</td>\n",
       "      <td>-993.55</td>\n",
       "      <td>1761.531579</td>\n",
       "    </tr>\n",
       "    <tr>\n",
       "      <th>oppo_c600</th>\n",
       "      <td>1754.20</td>\n",
       "      <td>1689.80</td>\n",
       "      <td>1357.30</td>\n",
       "      <td>2536.65</td>\n",
       "      <td>4056.50</td>\n",
       "      <td>2123.80</td>\n",
       "      <td>2017.15</td>\n",
       "      <td>2012.40</td>\n",
       "      <td>2868.95</td>\n",
       "      <td>5085.90</td>\n",
       "      <td>1623.60</td>\n",
       "      <td>1442.10</td>\n",
       "      <td>-166.30</td>\n",
       "      <td>-1075.95</td>\n",
       "      <td>-1302.60</td>\n",
       "      <td>-625.00</td>\n",
       "      <td>-1149.40</td>\n",
       "      <td>-707.05</td>\n",
       "      <td>-1208.05</td>\n",
       "      <td>2700.905263</td>\n",
       "    </tr>\n",
       "    <tr>\n",
       "      <th>oppo_c650</th>\n",
       "      <td>1708.85</td>\n",
       "      <td>2287.55</td>\n",
       "      <td>1844.00</td>\n",
       "      <td>3453.05</td>\n",
       "      <td>5679.55</td>\n",
       "      <td>3324.80</td>\n",
       "      <td>3201.45</td>\n",
       "      <td>3684.20</td>\n",
       "      <td>1894.45</td>\n",
       "      <td>3912.60</td>\n",
       "      <td>2147.15</td>\n",
       "      <td>2684.30</td>\n",
       "      <td>809.65</td>\n",
       "      <td>19.05</td>\n",
       "      <td>-2111.25</td>\n",
       "      <td>565.30</td>\n",
       "      <td>-2244.20</td>\n",
       "      <td>-1420.70</td>\n",
       "      <td>-1663.90</td>\n",
       "      <td>3092.584211</td>\n",
       "    </tr>\n",
       "    <tr>\n",
       "      <th>oppo_c700</th>\n",
       "      <td>1277.05</td>\n",
       "      <td>1416.90</td>\n",
       "      <td>993.95</td>\n",
       "      <td>1328.15</td>\n",
       "      <td>5166.00</td>\n",
       "      <td>2843.35</td>\n",
       "      <td>2038.55</td>\n",
       "      <td>4086.50</td>\n",
       "      <td>1368.55</td>\n",
       "      <td>3582.05</td>\n",
       "      <td>1741.25</td>\n",
       "      <td>1799.65</td>\n",
       "      <td>1186.10</td>\n",
       "      <td>1385.75</td>\n",
       "      <td>202.30</td>\n",
       "      <td>-130.00</td>\n",
       "      <td>-1332.25</td>\n",
       "      <td>-1812.40</td>\n",
       "      <td>-1401.30</td>\n",
       "      <td>2880.176316</td>\n",
       "    </tr>\n",
       "    <tr>\n",
       "      <th>oppo_c750</th>\n",
       "      <td>1252.95</td>\n",
       "      <td>1194.55</td>\n",
       "      <td>1169.55</td>\n",
       "      <td>2080.05</td>\n",
       "      <td>5239.40</td>\n",
       "      <td>1675.30</td>\n",
       "      <td>3679.20</td>\n",
       "      <td>2557.95</td>\n",
       "      <td>2214.40</td>\n",
       "      <td>3303.20</td>\n",
       "      <td>2414.95</td>\n",
       "      <td>2693.25</td>\n",
       "      <td>736.40</td>\n",
       "      <td>-693.00</td>\n",
       "      <td>487.45</td>\n",
       "      <td>172.85</td>\n",
       "      <td>-622.00</td>\n",
       "      <td>-1421.15</td>\n",
       "      <td>-788.30</td>\n",
       "      <td>2964.747368</td>\n",
       "    </tr>\n",
       "    <tr>\n",
       "      <th>oppo_c800</th>\n",
       "      <td>1149.45</td>\n",
       "      <td>790.20</td>\n",
       "      <td>896.05</td>\n",
       "      <td>904.25</td>\n",
       "      <td>171.90</td>\n",
       "      <td>822.70</td>\n",
       "      <td>733.85</td>\n",
       "      <td>1089.00</td>\n",
       "      <td>893.45</td>\n",
       "      <td>1616.75</td>\n",
       "      <td>1681.40</td>\n",
       "      <td>1038.80</td>\n",
       "      <td>1421.50</td>\n",
       "      <td>2458.90</td>\n",
       "      <td>1763.15</td>\n",
       "      <td>761.80</td>\n",
       "      <td>81.85</td>\n",
       "      <td>-642.30</td>\n",
       "      <td>-586.20</td>\n",
       "      <td>2422.615789</td>\n",
       "    </tr>\n",
       "    <tr>\n",
       "      <th>oppo_c850</th>\n",
       "      <td>1456.60</td>\n",
       "      <td>1227.35</td>\n",
       "      <td>1193.15</td>\n",
       "      <td>1708.45</td>\n",
       "      <td>1947.45</td>\n",
       "      <td>1358.50</td>\n",
       "      <td>1533.85</td>\n",
       "      <td>2060.35</td>\n",
       "      <td>1022.40</td>\n",
       "      <td>1550.35</td>\n",
       "      <td>1409.00</td>\n",
       "      <td>562.80</td>\n",
       "      <td>753.15</td>\n",
       "      <td>1179.15</td>\n",
       "      <td>1928.75</td>\n",
       "      <td>1394.50</td>\n",
       "      <td>871.05</td>\n",
       "      <td>-23.20</td>\n",
       "      <td>-176.25</td>\n",
       "      <td>2733.715789</td>\n",
       "    </tr>\n",
       "    <tr>\n",
       "      <th>oppo_c900</th>\n",
       "      <td>1448.50</td>\n",
       "      <td>1456.40</td>\n",
       "      <td>1202.65</td>\n",
       "      <td>1037.10</td>\n",
       "      <td>2166.45</td>\n",
       "      <td>1264.45</td>\n",
       "      <td>1731.10</td>\n",
       "      <td>1982.15</td>\n",
       "      <td>1155.60</td>\n",
       "      <td>1574.10</td>\n",
       "      <td>1196.95</td>\n",
       "      <td>1160.35</td>\n",
       "      <td>973.60</td>\n",
       "      <td>1903.55</td>\n",
       "      <td>1528.85</td>\n",
       "      <td>947.35</td>\n",
       "      <td>533.60</td>\n",
       "      <td>445.30</td>\n",
       "      <td>-67.20</td>\n",
       "      <td>2769.686842</td>\n",
       "    </tr>\n",
       "  </tbody>\n",
       "</table>\n",
       "</div>"
      ],
      "text/plain": [
       "           oppo_c0  oppo_c50  oppo_c100  oppo_c150  oppo_c200  oppo_c250  \\\n",
       "oppo_c0     -49.30  -1702.40    -969.95   -1168.80   -1975.05   -1115.10   \n",
       "oppo_c50   1819.00    160.30   -1835.00   -2179.40   -2727.15   -2601.00   \n",
       "oppo_c100  1033.45   1732.20      57.85    -646.00    -818.25   -1338.10   \n",
       "oppo_c150   884.85   2329.75     688.50     -39.55   -4055.80   -3714.30   \n",
       "oppo_c200  1683.00   2714.00     878.95    4076.35     -50.95   -1770.15   \n",
       "oppo_c250  1507.25   2612.25    1464.80    3663.95    1757.45    -296.80   \n",
       "oppo_c300  1322.80   1975.65    1340.40    -602.80    2926.65    1057.70   \n",
       "oppo_c350  1422.30   2462.10    2045.20    2982.45    1939.05    4035.40   \n",
       "oppo_c400  1510.60   1629.85     545.00    2363.90    -818.20    2689.00   \n",
       "oppo_c450  1470.55   2574.95    2928.25    1448.95    3523.10    2323.30   \n",
       "oppo_c500  1353.25   1613.95    1496.95    2548.55    4056.65    1203.45   \n",
       "oppo_c550   921.70    944.70    1062.60     998.95    1663.80    2457.40   \n",
       "oppo_c600  1754.20   1689.80    1357.30    2536.65    4056.50    2123.80   \n",
       "oppo_c650  1708.85   2287.55    1844.00    3453.05    5679.55    3324.80   \n",
       "oppo_c700  1277.05   1416.90     993.95    1328.15    5166.00    2843.35   \n",
       "oppo_c750  1252.95   1194.55    1169.55    2080.05    5239.40    1675.30   \n",
       "oppo_c800  1149.45    790.20     896.05     904.25     171.90     822.70   \n",
       "oppo_c850  1456.60   1227.35    1193.15    1708.45    1947.45    1358.50   \n",
       "oppo_c900  1448.50   1456.40    1202.65    1037.10    2166.45    1264.45   \n",
       "\n",
       "           oppo_c300  oppo_c350  oppo_c400  oppo_c450  oppo_c500  oppo_c550  \\\n",
       "oppo_c0     -1688.55   -1725.65   -1673.15   -1473.50   -1562.40   -1031.10   \n",
       "oppo_c50    -1774.10   -2400.45   -1652.00   -2632.60   -1312.05    -927.00   \n",
       "oppo_c100   -1419.35   -1767.50    -533.20   -2927.70   -1334.20   -1195.80   \n",
       "oppo_c150     545.35   -3106.20   -2152.55   -1435.20   -2121.35   -1234.10   \n",
       "oppo_c200   -2589.85   -1413.05     833.70   -3356.75   -3497.30   -1473.25   \n",
       "oppo_c250   -1160.90   -3552.45   -2594.60   -2455.85   -1106.65   -2432.90   \n",
       "oppo_c300      14.65    -890.65   -1752.10   -5274.50   -1380.45   -1932.90   \n",
       "oppo_c350     498.20    -190.85   -2940.80    -808.20   -3869.75   -2237.10   \n",
       "oppo_c400    1387.05    2815.40    -277.15   -2020.45    -508.25    -652.25   \n",
       "oppo_c450    4870.80     491.40    2070.30      25.45    -847.20    -415.70   \n",
       "oppo_c500    1666.30    3118.20     863.85    1856.45    -206.30   -1879.50   \n",
       "oppo_c550    1869.75    2015.90     737.65     530.65    1875.90      86.65   \n",
       "oppo_c600    2017.15    2012.40    2868.95    5085.90    1623.60    1442.10   \n",
       "oppo_c650    3201.45    3684.20    1894.45    3912.60    2147.15    2684.30   \n",
       "oppo_c700    2038.55    4086.50    1368.55    3582.05    1741.25    1799.65   \n",
       "oppo_c750    3679.20    2557.95    2214.40    3303.20    2414.95    2693.25   \n",
       "oppo_c800     733.85    1089.00     893.45    1616.75    1681.40    1038.80   \n",
       "oppo_c850    1533.85    2060.35    1022.40    1550.35    1409.00     562.80   \n",
       "oppo_c900    1731.10    1982.15    1155.60    1574.10    1196.95    1160.35   \n",
       "\n",
       "           oppo_c600  oppo_c650  oppo_c700  oppo_c750  oppo_c800  oppo_c850  \\\n",
       "oppo_c0     -1970.85   -1528.15   -1060.10   -1153.55   -1324.50   -1829.40   \n",
       "oppo_c50    -1737.00   -2201.10   -1447.80   -1276.55    -694.95   -1023.95   \n",
       "oppo_c100   -1293.95   -1761.80    -981.55   -1351.10   -1194.95   -1028.30   \n",
       "oppo_c150   -2487.30   -3787.40   -1238.40   -2061.80    -973.15   -1509.25   \n",
       "oppo_c200   -4090.90   -6105.90   -5354.80   -5109.20    -254.15   -1774.90   \n",
       "oppo_c250   -2111.35   -3366.25   -2679.80   -1556.95   -1126.50   -1087.60   \n",
       "oppo_c300   -1331.50   -3110.80   -2383.95   -3504.95    -813.20   -1601.20   \n",
       "oppo_c350   -1491.55   -3086.05   -3747.10   -2516.50   -1023.35   -1724.35   \n",
       "oppo_c400   -2886.10   -1965.45   -1452.35   -2225.30    -668.60   -1139.10   \n",
       "oppo_c450   -4815.20   -4337.00   -3313.30   -3656.60   -1356.80   -1676.85   \n",
       "oppo_c500   -1529.10   -2339.45   -1727.40   -2485.90   -1389.30   -1260.00   \n",
       "oppo_c550   -1341.75   -2592.65   -1671.70   -2670.85   -1005.50    -403.75   \n",
       "oppo_c600    -166.30   -1075.95   -1302.60    -625.00   -1149.40    -707.05   \n",
       "oppo_c650     809.65      19.05   -2111.25     565.30   -2244.20   -1420.70   \n",
       "oppo_c700    1186.10    1385.75     202.30    -130.00   -1332.25   -1812.40   \n",
       "oppo_c750     736.40    -693.00     487.45     172.85    -622.00   -1421.15   \n",
       "oppo_c800    1421.50    2458.90    1763.15     761.80      81.85    -642.30   \n",
       "oppo_c850     753.15    1179.15    1928.75    1394.50     871.05     -23.20   \n",
       "oppo_c900     973.60    1903.55    1528.85     947.35     533.60     445.30   \n",
       "\n",
       "           oppo_c900      avg_rwd  \n",
       "oppo_c0     -1321.45   140.013158  \n",
       "oppo_c50    -1226.70    69.142105  \n",
       "oppo_c100   -1060.30   587.086842  \n",
       "oppo_c150   -1188.25   122.476316  \n",
       "oppo_c200   -2328.05     0.000000  \n",
       "oppo_c250   -1038.75   706.397368  \n",
       "oppo_c300   -1948.90   583.850000  \n",
       "oppo_c350   -1743.85   999.392105  \n",
       "oppo_c400    -851.90  1392.573684  \n",
       "oppo_c450   -1942.05  1492.081579  \n",
       "oppo_c500   -1360.55  1820.173684  \n",
       "oppo_c550    -993.55  1761.531579  \n",
       "oppo_c600   -1208.05  2700.905263  \n",
       "oppo_c650   -1663.90  3092.584211  \n",
       "oppo_c700   -1401.30  2880.176316  \n",
       "oppo_c750    -788.30  2964.747368  \n",
       "oppo_c800    -586.20  2422.615789  \n",
       "oppo_c850    -176.25  2733.715789  \n",
       "oppo_c900     -67.20  2769.686842  "
      ]
     },
     "execution_count": 9,
     "metadata": {},
     "output_type": "execute_result"
    }
   ],
   "source": [
    "df"
   ]
  },
  {
   "cell_type": "code",
   "execution_count": 10,
   "id": "3100d8bf",
   "metadata": {},
   "outputs": [
    {
     "data": {
      "text/plain": [
       "[<matplotlib.lines.Line2D at 0x7f11d1c2beb8>]"
      ]
     },
     "execution_count": 10,
     "metadata": {},
     "output_type": "execute_result"
    },
    {
     "data": {
      "image/png": "[encoded data removed]",
      "text/plain": [
       "<Figure size 640x480 with 1 Axes>"
      ]
     },
     "metadata": {},
     "output_type": "display_data"
    }
   ],
   "source": [
    "plt.plot(df[\"avg_rwd\"])"
   ]
  },
  {
   "cell_type": "code",
   "execution_count": 12,
   "id": "04c19a6b",
   "metadata": {},
   "outputs": [],
   "source": [
    "df.to_csv(\"result_elo.csv\")"
   ]
  },
  {
   "cell_type": "code",
   "execution_count": null,
   "id": "b77c3da5",
   "metadata": {},
   "outputs": [],
   "source": []
  }
 ],
 "metadata": {
  "kernelspec": {
   "display_name": "Python 3 (ipykernel)",
   "language": "python",
   "name": "python3"
  },
  "language_info": {
   "codemirror_mode": {
    "name": "ipython",
    "version": 3
   },
   "file_extension": ".py",
   "mimetype": "text/x-python",
   "name": "python",
   "nbconvert_exporter": "python",
   "pygments_lexer": "ipython3",
   "version": "3.7.3"
  }
 },
 "nbformat": 4,
 "nbformat_minor": 5
}
